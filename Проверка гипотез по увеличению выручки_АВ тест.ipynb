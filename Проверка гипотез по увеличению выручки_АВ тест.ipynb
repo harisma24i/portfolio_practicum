{
 "cells": [
  {
   "cell_type": "markdown",
   "metadata": {},
   "source": [
    "# Приоритизация гипотез и анализ A/B-теста. #\n",
    "\n",
    "Совместно с отделом маркетинга подготовлен список гипотез для увеличения выручки.\n",
    "\n",
    "**Цель** - принятие решения по результатам теста.\n",
    "\n",
    "**Задачи:**\n",
    "- приоритизация гипотез, \n",
    "- запуск A/B-теста,\n",
    "- анализ результатов A/B-теста.\n",
    "\n",
    "**Исходные данные.**\n",
    "\n",
    "1. Файл /datasets/hypothesis.csv\n",
    "\n",
    "Hypothesis — краткое описание гипотезы;\n",
    "\n",
    "Reach — охват пользователей по 10-балльной шкале;\n",
    "\n",
    "Impact — влияние на пользователей по 10-балльной шкале;\n",
    "\n",
    "Confidence — уверенность в гипотезе по 10-балльной шкале;\n",
    "\n",
    "Efforts — затраты ресурсов на проверку гипотезы по 10-балльной шкале. Чем больше значение Efforts, тем дороже проверка гипотезы.\n",
    "\n",
    "2. Файл /datasets/orders.csv\n",
    "\n",
    "transactionId — идентификатор заказа;\n",
    "\n",
    "visitorId — идентификатор пользователя, совершившего заказ;\n",
    "\n",
    "date — дата, когда был совершён заказ;\n",
    "\n",
    "revenue — выручка заказа;\n",
    "\n",
    "group — группа A/B-теста, в которую попал заказ.\n",
    "\n",
    "3. Файл /datasets/visitors.csv\n",
    "\n",
    "date — дата;\n",
    "\n",
    "group — группа A/B-теста;\n",
    "\n",
    "visitors — количество пользователей в указанную дату в указанной группе A/B-теста\n",
    "\n",
    "**Данное исследование разделим на несколько частей.**\n",
    "\n",
    "***Часть 1. Изучение общей информации:***\n",
    "* [1. Обзор файлов с данными, получение общей информации, загрузка библиотек.](#1-bullet)\n",
    "* [2. Подготовка данных: приведение данных к хорошему стилю, проверка на дубликаты.](#2-bullet)\n",
    "* [3. Проверка на дублирование пользователей в разных группах, исключение ошибочных пользователей.](#3-bullet)\n",
    "\n",
    "***Часть 2. Приоритизация гипотез:***\n",
    "* [4. Фреймворк ICE.](#4-bullet)\n",
    "* [5. Фреймворк RICE.](#5-bullet)\n",
    "\n",
    "***Часть 3. A/B-тест:***\n",
    "* [6. График кумулятивной выручки по группам.](#6-bullet)\n",
    "* [7. График кумулятивного среднего чека по группам](#7-bullet)\n",
    "* [8. График относительного изменения кумулятивного среднего чека группы B к группе A.](#8-bullet)\n",
    "* [9. График кумулятивного среднего количества заказов на посетителя по группам.](#9-bullet)\n",
    "* [10. График относительного изменения кумулятивного среднего количества заказов на посетителя группы B к группе A.](#10-bullet)\n",
    "* [11. Точечный график количества заказов по пользователям..](#11-bullet)\n",
    "* [12. 95-й и 99-й перцентили количества заказов.](#12-bullet)\n",
    "* [13. Точечный график стоимостей заказов.](#13-bullet)\n",
    "* [14. 95-й и 99-й перцентили стоимости заказов.](#14-bullet)\n",
    "* [15. Статистическая значимость различий в среднем количестве заказов на посетителя между группами по «сырым» данным.](#15-bullet)\n",
    "* [16. Статистическая значимость различий в среднем чеке заказа между группами по «сырым» данным.](#16-bullet)\n",
    "* [17. Статистическая значимость различий в среднем количестве заказов на посетителя между группами по «очищенным» данным.](#17-bullet)\n",
    "* [18. Статистическая значимость различий в среднем чеке заказа между группами по «очищенным» данным..](#18-bullet)\n",
    "\n",
    "[***Часть 4. Выводы и рекомендации.***](#19-bullet)"
   ]
  },
  {
   "cell_type": "markdown",
   "metadata": {},
   "source": [
    "<a id='1-bullet'></a>\n",
    "## Изучение общей информации. ##"
   ]
  },
  {
   "cell_type": "code",
   "execution_count": 1,
   "metadata": {},
   "outputs": [],
   "source": [
    "# сразу загрузим необходимые библиотеки\n",
    "import pandas as pd\n",
    "import scipy.stats as stats\n",
    "import datetime as dt\n",
    "import numpy as np\n",
    "import matplotlib.pyplot as plt\n",
    "from pandas.plotting import register_matplotlib_converters\n",
    "import warnings\n",
    "# конвертеры, которые позволяют использовать типы pandas в matplotlib  \n",
    "register_matplotlib_converters()"
   ]
  },
  {
   "cell_type": "code",
   "execution_count": 2,
   "metadata": {},
   "outputs": [],
   "source": [
    "# откроем датасеты\n",
    "hypothesis = pd.read_csv('C:\\ПРОЕКТЫ/hypothesis.csv', sep=',')\n",
    "orders = pd.read_csv('C:\\ПРОЕКТЫ/orders.csv', sep=',')\n",
    "visitors = pd.read_csv('C:\\ПРОЕКТЫ/visitors.csv', sep=',')"
   ]
  },
  {
   "cell_type": "code",
   "execution_count": 3,
   "metadata": {},
   "outputs": [
    {
     "data": {
      "text/html": [
       "<div>\n",
       "<style scoped>\n",
       "    .dataframe tbody tr th:only-of-type {\n",
       "        vertical-align: middle;\n",
       "    }\n",
       "\n",
       "    .dataframe tbody tr th {\n",
       "        vertical-align: top;\n",
       "    }\n",
       "\n",
       "    .dataframe thead th {\n",
       "        text-align: right;\n",
       "    }\n",
       "</style>\n",
       "<table border=\"1\" class=\"dataframe\">\n",
       "  <thead>\n",
       "    <tr style=\"text-align: right;\">\n",
       "      <th></th>\n",
       "      <th>Hypothesis</th>\n",
       "      <th>Reach</th>\n",
       "      <th>Impact</th>\n",
       "      <th>Confidence</th>\n",
       "      <th>Efforts</th>\n",
       "    </tr>\n",
       "  </thead>\n",
       "  <tbody>\n",
       "    <tr>\n",
       "      <th>0</th>\n",
       "      <td>Добавить два новых канала привлечения трафика,...</td>\n",
       "      <td>3</td>\n",
       "      <td>10</td>\n",
       "      <td>8</td>\n",
       "      <td>6</td>\n",
       "    </tr>\n",
       "    <tr>\n",
       "      <th>1</th>\n",
       "      <td>Запустить собственную службу доставки, что сок...</td>\n",
       "      <td>2</td>\n",
       "      <td>5</td>\n",
       "      <td>4</td>\n",
       "      <td>10</td>\n",
       "    </tr>\n",
       "    <tr>\n",
       "      <th>2</th>\n",
       "      <td>Добавить блоки рекомендаций товаров на сайт ин...</td>\n",
       "      <td>8</td>\n",
       "      <td>3</td>\n",
       "      <td>7</td>\n",
       "      <td>3</td>\n",
       "    </tr>\n",
       "    <tr>\n",
       "      <th>3</th>\n",
       "      <td>Изменить структура категорий, что увеличит кон...</td>\n",
       "      <td>8</td>\n",
       "      <td>3</td>\n",
       "      <td>3</td>\n",
       "      <td>8</td>\n",
       "    </tr>\n",
       "    <tr>\n",
       "      <th>4</th>\n",
       "      <td>Изменить цвет фона главной страницы, чтобы уве...</td>\n",
       "      <td>3</td>\n",
       "      <td>1</td>\n",
       "      <td>1</td>\n",
       "      <td>1</td>\n",
       "    </tr>\n",
       "    <tr>\n",
       "      <th>5</th>\n",
       "      <td>Добавить страницу отзывов клиентов о магазине,...</td>\n",
       "      <td>3</td>\n",
       "      <td>2</td>\n",
       "      <td>2</td>\n",
       "      <td>3</td>\n",
       "    </tr>\n",
       "    <tr>\n",
       "      <th>6</th>\n",
       "      <td>Показать на главной странице баннеры с актуаль...</td>\n",
       "      <td>5</td>\n",
       "      <td>3</td>\n",
       "      <td>8</td>\n",
       "      <td>3</td>\n",
       "    </tr>\n",
       "    <tr>\n",
       "      <th>7</th>\n",
       "      <td>Добавить форму подписки на все основные страни...</td>\n",
       "      <td>10</td>\n",
       "      <td>7</td>\n",
       "      <td>8</td>\n",
       "      <td>5</td>\n",
       "    </tr>\n",
       "    <tr>\n",
       "      <th>8</th>\n",
       "      <td>Запустить акцию, дающую скидку на товар в день...</td>\n",
       "      <td>1</td>\n",
       "      <td>9</td>\n",
       "      <td>9</td>\n",
       "      <td>5</td>\n",
       "    </tr>\n",
       "  </tbody>\n",
       "</table>\n",
       "</div>"
      ],
      "text/plain": [
       "                                          Hypothesis  Reach  Impact  \\\n",
       "0  Добавить два новых канала привлечения трафика,...      3      10   \n",
       "1  Запустить собственную службу доставки, что сок...      2       5   \n",
       "2  Добавить блоки рекомендаций товаров на сайт ин...      8       3   \n",
       "3  Изменить структура категорий, что увеличит кон...      8       3   \n",
       "4  Изменить цвет фона главной страницы, чтобы уве...      3       1   \n",
       "5  Добавить страницу отзывов клиентов о магазине,...      3       2   \n",
       "6  Показать на главной странице баннеры с актуаль...      5       3   \n",
       "7  Добавить форму подписки на все основные страни...     10       7   \n",
       "8  Запустить акцию, дающую скидку на товар в день...      1       9   \n",
       "\n",
       "   Confidence  Efforts  \n",
       "0           8        6  \n",
       "1           4       10  \n",
       "2           7        3  \n",
       "3           3        8  \n",
       "4           1        1  \n",
       "5           2        3  \n",
       "6           8        3  \n",
       "7           8        5  \n",
       "8           9        5  "
      ]
     },
     "metadata": {},
     "output_type": "display_data"
    },
    {
     "data": {
      "text/html": [
       "<div>\n",
       "<style scoped>\n",
       "    .dataframe tbody tr th:only-of-type {\n",
       "        vertical-align: middle;\n",
       "    }\n",
       "\n",
       "    .dataframe tbody tr th {\n",
       "        vertical-align: top;\n",
       "    }\n",
       "\n",
       "    .dataframe thead th {\n",
       "        text-align: right;\n",
       "    }\n",
       "</style>\n",
       "<table border=\"1\" class=\"dataframe\">\n",
       "  <thead>\n",
       "    <tr style=\"text-align: right;\">\n",
       "      <th></th>\n",
       "      <th>transactionId</th>\n",
       "      <th>visitorId</th>\n",
       "      <th>date</th>\n",
       "      <th>revenue</th>\n",
       "      <th>group</th>\n",
       "    </tr>\n",
       "  </thead>\n",
       "  <tbody>\n",
       "    <tr>\n",
       "      <th>0</th>\n",
       "      <td>3667963787</td>\n",
       "      <td>3312258926</td>\n",
       "      <td>2019-08-15</td>\n",
       "      <td>1650</td>\n",
       "      <td>B</td>\n",
       "    </tr>\n",
       "    <tr>\n",
       "      <th>1</th>\n",
       "      <td>2804400009</td>\n",
       "      <td>3642806036</td>\n",
       "      <td>2019-08-15</td>\n",
       "      <td>730</td>\n",
       "      <td>B</td>\n",
       "    </tr>\n",
       "    <tr>\n",
       "      <th>2</th>\n",
       "      <td>2961555356</td>\n",
       "      <td>4069496402</td>\n",
       "      <td>2019-08-15</td>\n",
       "      <td>400</td>\n",
       "      <td>A</td>\n",
       "    </tr>\n",
       "    <tr>\n",
       "      <th>3</th>\n",
       "      <td>3797467345</td>\n",
       "      <td>1196621759</td>\n",
       "      <td>2019-08-15</td>\n",
       "      <td>9759</td>\n",
       "      <td>B</td>\n",
       "    </tr>\n",
       "    <tr>\n",
       "      <th>4</th>\n",
       "      <td>2282983706</td>\n",
       "      <td>2322279887</td>\n",
       "      <td>2019-08-15</td>\n",
       "      <td>2308</td>\n",
       "      <td>B</td>\n",
       "    </tr>\n",
       "  </tbody>\n",
       "</table>\n",
       "</div>"
      ],
      "text/plain": [
       "   transactionId   visitorId        date  revenue group\n",
       "0     3667963787  3312258926  2019-08-15     1650     B\n",
       "1     2804400009  3642806036  2019-08-15      730     B\n",
       "2     2961555356  4069496402  2019-08-15      400     A\n",
       "3     3797467345  1196621759  2019-08-15     9759     B\n",
       "4     2282983706  2322279887  2019-08-15     2308     B"
      ]
     },
     "metadata": {},
     "output_type": "display_data"
    },
    {
     "data": {
      "text/html": [
       "<div>\n",
       "<style scoped>\n",
       "    .dataframe tbody tr th:only-of-type {\n",
       "        vertical-align: middle;\n",
       "    }\n",
       "\n",
       "    .dataframe tbody tr th {\n",
       "        vertical-align: top;\n",
       "    }\n",
       "\n",
       "    .dataframe thead th {\n",
       "        text-align: right;\n",
       "    }\n",
       "</style>\n",
       "<table border=\"1\" class=\"dataframe\">\n",
       "  <thead>\n",
       "    <tr style=\"text-align: right;\">\n",
       "      <th></th>\n",
       "      <th>date</th>\n",
       "      <th>group</th>\n",
       "      <th>visitors</th>\n",
       "    </tr>\n",
       "  </thead>\n",
       "  <tbody>\n",
       "    <tr>\n",
       "      <th>0</th>\n",
       "      <td>2019-08-01</td>\n",
       "      <td>A</td>\n",
       "      <td>719</td>\n",
       "    </tr>\n",
       "    <tr>\n",
       "      <th>1</th>\n",
       "      <td>2019-08-02</td>\n",
       "      <td>A</td>\n",
       "      <td>619</td>\n",
       "    </tr>\n",
       "    <tr>\n",
       "      <th>2</th>\n",
       "      <td>2019-08-03</td>\n",
       "      <td>A</td>\n",
       "      <td>507</td>\n",
       "    </tr>\n",
       "    <tr>\n",
       "      <th>3</th>\n",
       "      <td>2019-08-04</td>\n",
       "      <td>A</td>\n",
       "      <td>717</td>\n",
       "    </tr>\n",
       "    <tr>\n",
       "      <th>4</th>\n",
       "      <td>2019-08-05</td>\n",
       "      <td>A</td>\n",
       "      <td>756</td>\n",
       "    </tr>\n",
       "  </tbody>\n",
       "</table>\n",
       "</div>"
      ],
      "text/plain": [
       "         date group  visitors\n",
       "0  2019-08-01     A       719\n",
       "1  2019-08-02     A       619\n",
       "2  2019-08-03     A       507\n",
       "3  2019-08-04     A       717\n",
       "4  2019-08-05     A       756"
      ]
     },
     "execution_count": 3,
     "metadata": {},
     "output_type": "execute_result"
    }
   ],
   "source": [
    "# посмотрим на содержимое\n",
    "display(hypothesis)\n",
    "display(orders.head())\n",
    "visitors.head()"
   ]
  },
  {
   "cell_type": "code",
   "execution_count": 4,
   "metadata": {},
   "outputs": [
    {
     "name": "stdout",
     "output_type": "stream",
     "text": [
      "<class 'pandas.core.frame.DataFrame'>\n",
      "RangeIndex: 9 entries, 0 to 8\n",
      "Data columns (total 5 columns):\n",
      " #   Column      Non-Null Count  Dtype \n",
      "---  ------      --------------  ----- \n",
      " 0   Hypothesis  9 non-null      object\n",
      " 1   Reach       9 non-null      int64 \n",
      " 2   Impact      9 non-null      int64 \n",
      " 3   Confidence  9 non-null      int64 \n",
      " 4   Efforts     9 non-null      int64 \n",
      "dtypes: int64(4), object(1)\n",
      "memory usage: 488.0+ bytes\n",
      "<class 'pandas.core.frame.DataFrame'>\n",
      "RangeIndex: 1197 entries, 0 to 1196\n",
      "Data columns (total 5 columns):\n",
      " #   Column         Non-Null Count  Dtype \n",
      "---  ------         --------------  ----- \n",
      " 0   transactionId  1197 non-null   int64 \n",
      " 1   visitorId      1197 non-null   int64 \n",
      " 2   date           1197 non-null   object\n",
      " 3   revenue        1197 non-null   int64 \n",
      " 4   group          1197 non-null   object\n",
      "dtypes: int64(3), object(2)\n",
      "memory usage: 46.9+ KB\n",
      "<class 'pandas.core.frame.DataFrame'>\n",
      "RangeIndex: 62 entries, 0 to 61\n",
      "Data columns (total 3 columns):\n",
      " #   Column    Non-Null Count  Dtype \n",
      "---  ------    --------------  ----- \n",
      " 0   date      62 non-null     object\n",
      " 1   group     62 non-null     object\n",
      " 2   visitors  62 non-null     int64 \n",
      "dtypes: int64(1), object(2)\n",
      "memory usage: 1.6+ KB\n"
     ]
    }
   ],
   "source": [
    "# изучим информацию о датасете\n",
    "hypothesis.info()\n",
    "orders.info()\n",
    "visitors.info()"
   ]
  },
  {
   "cell_type": "markdown",
   "metadata": {},
   "source": [
    "Пропусков в данных нет. Столбцы с датой имеют тип object. Названия колонок необходимо привести к хорошему стилю."
   ]
  },
  {
   "cell_type": "code",
   "execution_count": 5,
   "metadata": {},
   "outputs": [],
   "source": [
    "# первым делом исправим названия колонок\n",
    "orders = orders.rename(columns={'transactionId':'transaction_Id','visitorId':'visitor_Id'})"
   ]
  },
  {
   "cell_type": "markdown",
   "metadata": {},
   "source": [
    "<a id='2-bullet'></a>"
   ]
  },
  {
   "cell_type": "code",
   "execution_count": 6,
   "metadata": {},
   "outputs": [],
   "source": [
    "# приведем названия колонок к нижнему регистру\n",
    "hypothesis.columns = hypothesis.columns.str.lower()\n",
    "orders.columns = orders.columns.str.lower()"
   ]
  },
  {
   "cell_type": "code",
   "execution_count": 7,
   "metadata": {
    "scrolled": true
   },
   "outputs": [
    {
     "data": {
      "text/plain": [
       "0"
      ]
     },
     "metadata": {},
     "output_type": "display_data"
    },
    {
     "data": {
      "text/plain": [
       "0"
      ]
     },
     "metadata": {},
     "output_type": "display_data"
    },
    {
     "data": {
      "text/plain": [
       "0"
      ]
     },
     "execution_count": 7,
     "metadata": {},
     "output_type": "execute_result"
    }
   ],
   "source": [
    "# проверим на наличие явных дубликатов\n",
    "display(orders['transaction_id'].duplicated().sum())\n",
    "display(orders.duplicated().sum())\n",
    "visitors.duplicated().sum()"
   ]
  },
  {
   "cell_type": "code",
   "execution_count": 8,
   "metadata": {
    "scrolled": true
   },
   "outputs": [
    {
     "data": {
      "text/plain": [
       "0"
      ]
     },
     "execution_count": 8,
     "metadata": {},
     "output_type": "execute_result"
    }
   ],
   "source": [
    "# и на наличие не явных\n",
    "visitors.duplicated(subset=['date','group']).sum()"
   ]
  },
  {
   "cell_type": "code",
   "execution_count": 9,
   "metadata": {},
   "outputs": [
    {
     "data": {
      "text/html": [
       "<div>\n",
       "<style scoped>\n",
       "    .dataframe tbody tr th:only-of-type {\n",
       "        vertical-align: middle;\n",
       "    }\n",
       "\n",
       "    .dataframe tbody tr th {\n",
       "        vertical-align: top;\n",
       "    }\n",
       "\n",
       "    .dataframe thead th {\n",
       "        text-align: right;\n",
       "    }\n",
       "</style>\n",
       "<table border=\"1\" class=\"dataframe\">\n",
       "  <thead>\n",
       "    <tr style=\"text-align: right;\">\n",
       "      <th></th>\n",
       "      <th>transaction_id</th>\n",
       "      <th>visitor_id</th>\n",
       "      <th>date</th>\n",
       "      <th>revenue</th>\n",
       "      <th>group</th>\n",
       "    </tr>\n",
       "  </thead>\n",
       "  <tbody>\n",
       "    <tr>\n",
       "      <th>0</th>\n",
       "      <td>3667963787</td>\n",
       "      <td>3312258926</td>\n",
       "      <td>2019-08-15</td>\n",
       "      <td>1650</td>\n",
       "      <td>B</td>\n",
       "    </tr>\n",
       "    <tr>\n",
       "      <th>1</th>\n",
       "      <td>2804400009</td>\n",
       "      <td>3642806036</td>\n",
       "      <td>2019-08-15</td>\n",
       "      <td>730</td>\n",
       "      <td>B</td>\n",
       "    </tr>\n",
       "    <tr>\n",
       "      <th>2</th>\n",
       "      <td>2961555356</td>\n",
       "      <td>4069496402</td>\n",
       "      <td>2019-08-15</td>\n",
       "      <td>400</td>\n",
       "      <td>A</td>\n",
       "    </tr>\n",
       "    <tr>\n",
       "      <th>3</th>\n",
       "      <td>3797467345</td>\n",
       "      <td>1196621759</td>\n",
       "      <td>2019-08-15</td>\n",
       "      <td>9759</td>\n",
       "      <td>B</td>\n",
       "    </tr>\n",
       "    <tr>\n",
       "      <th>4</th>\n",
       "      <td>2282983706</td>\n",
       "      <td>2322279887</td>\n",
       "      <td>2019-08-15</td>\n",
       "      <td>2308</td>\n",
       "      <td>B</td>\n",
       "    </tr>\n",
       "  </tbody>\n",
       "</table>\n",
       "</div>"
      ],
      "text/plain": [
       "   transaction_id  visitor_id        date  revenue group\n",
       "0      3667963787  3312258926  2019-08-15     1650     B\n",
       "1      2804400009  3642806036  2019-08-15      730     B\n",
       "2      2961555356  4069496402  2019-08-15      400     A\n",
       "3      3797467345  1196621759  2019-08-15     9759     B\n",
       "4      2282983706  2322279887  2019-08-15     2308     B"
      ]
     },
     "execution_count": 9,
     "metadata": {},
     "output_type": "execute_result"
    }
   ],
   "source": [
    "orders.head()"
   ]
  },
  {
   "cell_type": "code",
   "execution_count": 10,
   "metadata": {},
   "outputs": [
    {
     "data": {
      "text/plain": [
       "group    58\n",
       "dtype: int64"
      ]
     },
     "execution_count": 10,
     "metadata": {},
     "output_type": "execute_result"
    }
   ],
   "source": [
    "# проверим, есть ли дубли в группах\n",
    "double_visitors = orders.groupby('visitor_id').agg({'group':'nunique'}).query('group>1').count()\n",
    "double_visitors"
   ]
  },
  {
   "cell_type": "markdown",
   "metadata": {},
   "source": [
    "<a id='3-bullet'></a>"
   ]
  },
  {
   "cell_type": "markdown",
   "metadata": {},
   "source": [
    "58 пользователей состоят в обеих группах одновременно. "
   ]
  },
  {
   "cell_type": "code",
   "execution_count": 11,
   "metadata": {},
   "outputs": [],
   "source": [
    "# удалим их из обеих групп\n",
    "double_visitors = orders.groupby('visitor_id').agg({'group':'nunique'}).reset_index().query('group>1')['visitor_id'].unique()\n",
    "orders = orders.query('visitor_id not in @double_visitors')"
   ]
  },
  {
   "cell_type": "markdown",
   "metadata": {},
   "source": [
    "Названия колонок приведены к хорошему стилю, сделана проверка на явные и не явные дубликаты, пользователи ошибочно попавшие в обе группы исключены. Данные готовы для дальнейшей работы."
   ]
  },
  {
   "cell_type": "markdown",
   "metadata": {},
   "source": [
    "## Приоритизация гипотез. ##\n",
    "Для приоритизации гипотез воспользуемся методами ICE и RICE. \n",
    "Reach — скольких пользователей затронет изменение.\n",
    "Impact — насколько сильно изменение повлияет на опыт пользователей.\n",
    "Confidence — уверенность, что это изменение повлияет на пользователей именно так. \n",
    "Efforts — сколько стоит протестировать эту гипотезу.  \n",
    "Чтобы вычислить ICE, перемножим Impact и Confidence и разделим на третий. \n",
    "Чтобы вычислить RICE, перемножим первые три параметра и разделим на четвертый. \n",
    "Результаты ранжируем. "
   ]
  },
  {
   "cell_type": "markdown",
   "metadata": {},
   "source": [
    "<a id='4-bullet'></a>"
   ]
  },
  {
   "cell_type": "code",
   "execution_count": 12,
   "metadata": {},
   "outputs": [
    {
     "data": {
      "text/html": [
       "<div>\n",
       "<style scoped>\n",
       "    .dataframe tbody tr th:only-of-type {\n",
       "        vertical-align: middle;\n",
       "    }\n",
       "\n",
       "    .dataframe tbody tr th {\n",
       "        vertical-align: top;\n",
       "    }\n",
       "\n",
       "    .dataframe thead th {\n",
       "        text-align: right;\n",
       "    }\n",
       "</style>\n",
       "<table border=\"1\" class=\"dataframe\">\n",
       "  <thead>\n",
       "    <tr style=\"text-align: right;\">\n",
       "      <th></th>\n",
       "      <th>hypothesis</th>\n",
       "      <th>ICE</th>\n",
       "    </tr>\n",
       "  </thead>\n",
       "  <tbody>\n",
       "    <tr>\n",
       "      <th>8</th>\n",
       "      <td>Запустить акцию, дающую скидку на товар в день рождения</td>\n",
       "      <td>16.200000</td>\n",
       "    </tr>\n",
       "    <tr>\n",
       "      <th>0</th>\n",
       "      <td>Добавить два новых канала привлечения трафика, что позволит привлекать на 30% больше пользователей</td>\n",
       "      <td>13.333333</td>\n",
       "    </tr>\n",
       "    <tr>\n",
       "      <th>7</th>\n",
       "      <td>Добавить форму подписки на все основные страницы, чтобы собрать базу клиентов для email-рассылок</td>\n",
       "      <td>11.200000</td>\n",
       "    </tr>\n",
       "    <tr>\n",
       "      <th>6</th>\n",
       "      <td>Показать на главной странице баннеры с актуальными акциями и распродажами, чтобы увеличить конверсию</td>\n",
       "      <td>8.000000</td>\n",
       "    </tr>\n",
       "    <tr>\n",
       "      <th>2</th>\n",
       "      <td>Добавить блоки рекомендаций товаров на сайт интернет магазина, чтобы повысить конверсию и средний чек заказа</td>\n",
       "      <td>7.000000</td>\n",
       "    </tr>\n",
       "    <tr>\n",
       "      <th>1</th>\n",
       "      <td>Запустить собственную службу доставки, что сократит срок доставки заказов</td>\n",
       "      <td>2.000000</td>\n",
       "    </tr>\n",
       "    <tr>\n",
       "      <th>5</th>\n",
       "      <td>Добавить страницу отзывов клиентов о магазине, что позволит увеличить количество заказов</td>\n",
       "      <td>1.333333</td>\n",
       "    </tr>\n",
       "    <tr>\n",
       "      <th>3</th>\n",
       "      <td>Изменить структура категорий, что увеличит конверсию, т.к. пользователи быстрее найдут нужный товар</td>\n",
       "      <td>1.125000</td>\n",
       "    </tr>\n",
       "    <tr>\n",
       "      <th>4</th>\n",
       "      <td>Изменить цвет фона главной страницы, чтобы увеличить вовлеченность пользователей</td>\n",
       "      <td>1.000000</td>\n",
       "    </tr>\n",
       "  </tbody>\n",
       "</table>\n",
       "</div>"
      ],
      "text/plain": [
       "                                                                                                     hypothesis  \\\n",
       "8                                                       Запустить акцию, дающую скидку на товар в день рождения   \n",
       "0            Добавить два новых канала привлечения трафика, что позволит привлекать на 30% больше пользователей   \n",
       "7              Добавить форму подписки на все основные страницы, чтобы собрать базу клиентов для email-рассылок   \n",
       "6          Показать на главной странице баннеры с актуальными акциями и распродажами, чтобы увеличить конверсию   \n",
       "2  Добавить блоки рекомендаций товаров на сайт интернет магазина, чтобы повысить конверсию и средний чек заказа   \n",
       "1                                     Запустить собственную службу доставки, что сократит срок доставки заказов   \n",
       "5                      Добавить страницу отзывов клиентов о магазине, что позволит увеличить количество заказов   \n",
       "3           Изменить структура категорий, что увеличит конверсию, т.к. пользователи быстрее найдут нужный товар   \n",
       "4                              Изменить цвет фона главной страницы, чтобы увеличить вовлеченность пользователей   \n",
       "\n",
       "         ICE  \n",
       "8  16.200000  \n",
       "0  13.333333  \n",
       "7  11.200000  \n",
       "6   8.000000  \n",
       "2   7.000000  \n",
       "1   2.000000  \n",
       "5   1.333333  \n",
       "3   1.125000  \n",
       "4   1.000000  "
      ]
     },
     "metadata": {},
     "output_type": "display_data"
    }
   ],
   "source": [
    "# посчитаем ICE для гипотез\n",
    "hypothesis['ICE'] = (hypothesis['impact']*hypothesis['confidence'])/hypothesis['efforts']\n",
    "pd.options.display.max_colwidth = 400\n",
    "display(hypothesis[['hypothesis','ICE']].sort_values(by='ICE', ascending=False))"
   ]
  },
  {
   "cell_type": "markdown",
   "metadata": {},
   "source": [
    "<a id='5-bullet'></a>"
   ]
  },
  {
   "cell_type": "code",
   "execution_count": 13,
   "metadata": {},
   "outputs": [
    {
     "data": {
      "text/html": [
       "<div>\n",
       "<style scoped>\n",
       "    .dataframe tbody tr th:only-of-type {\n",
       "        vertical-align: middle;\n",
       "    }\n",
       "\n",
       "    .dataframe tbody tr th {\n",
       "        vertical-align: top;\n",
       "    }\n",
       "\n",
       "    .dataframe thead th {\n",
       "        text-align: right;\n",
       "    }\n",
       "</style>\n",
       "<table border=\"1\" class=\"dataframe\">\n",
       "  <thead>\n",
       "    <tr style=\"text-align: right;\">\n",
       "      <th></th>\n",
       "      <th>hypothesis</th>\n",
       "      <th>RICE</th>\n",
       "    </tr>\n",
       "  </thead>\n",
       "  <tbody>\n",
       "    <tr>\n",
       "      <th>7</th>\n",
       "      <td>Добавить форму подписки на все основные страницы, чтобы собрать базу клиентов для email-рассылок</td>\n",
       "      <td>112.0</td>\n",
       "    </tr>\n",
       "    <tr>\n",
       "      <th>2</th>\n",
       "      <td>Добавить блоки рекомендаций товаров на сайт интернет магазина, чтобы повысить конверсию и средний чек заказа</td>\n",
       "      <td>56.0</td>\n",
       "    </tr>\n",
       "    <tr>\n",
       "      <th>0</th>\n",
       "      <td>Добавить два новых канала привлечения трафика, что позволит привлекать на 30% больше пользователей</td>\n",
       "      <td>40.0</td>\n",
       "    </tr>\n",
       "    <tr>\n",
       "      <th>6</th>\n",
       "      <td>Показать на главной странице баннеры с актуальными акциями и распродажами, чтобы увеличить конверсию</td>\n",
       "      <td>40.0</td>\n",
       "    </tr>\n",
       "    <tr>\n",
       "      <th>8</th>\n",
       "      <td>Запустить акцию, дающую скидку на товар в день рождения</td>\n",
       "      <td>16.2</td>\n",
       "    </tr>\n",
       "    <tr>\n",
       "      <th>3</th>\n",
       "      <td>Изменить структура категорий, что увеличит конверсию, т.к. пользователи быстрее найдут нужный товар</td>\n",
       "      <td>9.0</td>\n",
       "    </tr>\n",
       "    <tr>\n",
       "      <th>1</th>\n",
       "      <td>Запустить собственную службу доставки, что сократит срок доставки заказов</td>\n",
       "      <td>4.0</td>\n",
       "    </tr>\n",
       "    <tr>\n",
       "      <th>5</th>\n",
       "      <td>Добавить страницу отзывов клиентов о магазине, что позволит увеличить количество заказов</td>\n",
       "      <td>4.0</td>\n",
       "    </tr>\n",
       "    <tr>\n",
       "      <th>4</th>\n",
       "      <td>Изменить цвет фона главной страницы, чтобы увеличить вовлеченность пользователей</td>\n",
       "      <td>3.0</td>\n",
       "    </tr>\n",
       "  </tbody>\n",
       "</table>\n",
       "</div>"
      ],
      "text/plain": [
       "                                                                                                     hypothesis  \\\n",
       "7              Добавить форму подписки на все основные страницы, чтобы собрать базу клиентов для email-рассылок   \n",
       "2  Добавить блоки рекомендаций товаров на сайт интернет магазина, чтобы повысить конверсию и средний чек заказа   \n",
       "0            Добавить два новых канала привлечения трафика, что позволит привлекать на 30% больше пользователей   \n",
       "6          Показать на главной странице баннеры с актуальными акциями и распродажами, чтобы увеличить конверсию   \n",
       "8                                                       Запустить акцию, дающую скидку на товар в день рождения   \n",
       "3           Изменить структура категорий, что увеличит конверсию, т.к. пользователи быстрее найдут нужный товар   \n",
       "1                                     Запустить собственную службу доставки, что сократит срок доставки заказов   \n",
       "5                      Добавить страницу отзывов клиентов о магазине, что позволит увеличить количество заказов   \n",
       "4                              Изменить цвет фона главной страницы, чтобы увеличить вовлеченность пользователей   \n",
       "\n",
       "    RICE  \n",
       "7  112.0  \n",
       "2   56.0  \n",
       "0   40.0  \n",
       "6   40.0  \n",
       "8   16.2  \n",
       "3    9.0  \n",
       "1    4.0  \n",
       "5    4.0  \n",
       "4    3.0  "
      ]
     },
     "metadata": {},
     "output_type": "display_data"
    }
   ],
   "source": [
    "# применим фреймворк RICE для гипотез\n",
    "hypothesis['RICE'] = (hypothesis['reach']*hypothesis['impact']*hypothesis['confidence'])/hypothesis['efforts']\n",
    "display(hypothesis[['hypothesis','RICE']].sort_values(by='RICE', ascending=False))"
   ]
  },
  {
   "cell_type": "markdown",
   "metadata": {},
   "source": [
    "Наиболее перспективные гипотезы по ICE под номерами 8, 0, 7. \n",
    "По методу RICE снова перспективна гипотеза под номером 7, но она уже на первом месте и с большим преимуществом. Гипотеза под номером 0 на третьем, а гипотеза 8 в лидерах уже не значится. Зато выходят на первые позиции гипотезы 2 и 6. \n",
    "Так произошло, потому что добавился весьма важный параметр - reach - охват, который затронет гипотеза.\n",
    "\n",
    "Далее займемся анализом проведенного А/В теста.\n",
    "\n",
    "\n",
    "## A/B-тест. ##"
   ]
  },
  {
   "cell_type": "markdown",
   "metadata": {},
   "source": [
    "<a id='6-bullet'></a>"
   ]
  },
  {
   "cell_type": "code",
   "execution_count": 14,
   "metadata": {
    "scrolled": false
   },
   "outputs": [
    {
     "data": {
      "image/png": "[encoded data removed]",
      "text/plain": [
       "<Figure size 1000x500 with 1 Axes>"
      ]
     },
     "metadata": {},
     "output_type": "display_data"
    }
   ],
   "source": [
    "# построим график кумулятивной выручки по группам \n",
    "datesGroups = orders[['date', 'group']].drop_duplicates()\n",
    "\n",
    "ordersAggregated = datesGroups.apply(\n",
    "    lambda x: orders[\n",
    "        np.logical_and(\n",
    "            orders['date'] <= x['date'], orders['group'] == x['group']\n",
    "        )\n",
    "    ].agg(\n",
    "        {\n",
    "            'date': 'max',\n",
    "            'group': 'max',\n",
    "            'transaction_id': 'nunique',\n",
    "            'visitor_id': 'nunique',\n",
    "            'revenue': 'sum',\n",
    "        }\n",
    "    ),\n",
    "    axis=1,\n",
    ").sort_values(by=['date', 'group'])\n",
    "\n",
    "visitorsAggregated = datesGroups.apply(\n",
    "    lambda x: visitors[\n",
    "        np.logical_and(\n",
    "            visitors['date'] <= x['date'], visitors['group'] == x['group']\n",
    "        )\n",
    "    ].agg({'date': 'max', 'group': 'max', 'visitors': 'sum'}),\n",
    "    axis=1,\n",
    ").sort_values(by=['date', 'group'])\n",
    "\n",
    "cumulativeData = ordersAggregated.merge(\n",
    "    visitorsAggregated, left_on=['date', 'group'], right_on=['date', 'group']\n",
    ")\n",
    "cumulativeData.columns = [\n",
    "    'date',\n",
    "    'group',\n",
    "    'orders',\n",
    "    'buyers',\n",
    "    'revenue',\n",
    "    'visitors',\n",
    "]\n",
    "# датафрейм с кумулятивным количеством заказов и кумулятивной выручкой по дням в группе A\n",
    "cumulativeRevenueA = cumulativeData[cumulativeData['group']=='A'][['date','revenue', 'orders']]\n",
    "\n",
    "# датафрейм с кумулятивным количеством заказов и кумулятивной выручкой по дням в группе B\n",
    "cumulativeRevenueB = cumulativeData[cumulativeData['group']=='B'][['date','revenue', 'orders']]\n",
    "\n",
    "plt.figure(figsize=(10, 5))\n",
    "plt.title('Кумулятивная выручка по группам')\n",
    "plt.xticks(rotation=45, ha='right')\n",
    "# Строим график выручки группы А\n",
    "plt.plot(cumulativeRevenueA['date'], cumulativeRevenueA['revenue'], label='A')\n",
    "\n",
    "# Строим график выручки группы B\n",
    "plt.plot(cumulativeRevenueB['date'], cumulativeRevenueB['revenue'], label='B')\n",
    "\n",
    "plt.legend()\n",
    "plt.show()"
   ]
  },
  {
   "cell_type": "markdown",
   "metadata": {},
   "source": [
    "Сегмент В в середине теста резко подскочил и лидировал весь остаток теста."
   ]
  },
  {
   "cell_type": "markdown",
   "metadata": {},
   "source": [
    "<a id='7-bullet'></a>"
   ]
  },
  {
   "cell_type": "code",
   "execution_count": 15,
   "metadata": {
    "scrolled": false
   },
   "outputs": [
    {
     "data": {
      "image/png": "[encoded data removed]",
      "text/plain": [
       "<Figure size 1000x500 with 1 Axes>"
      ]
     },
     "metadata": {},
     "output_type": "display_data"
    }
   ],
   "source": [
    "# построим график кумулятивного среднего чека по группам \n",
    "plt.figure(figsize=(10, 5))\n",
    "plt.title('Кумулятивный средний чек по группам')\n",
    "plt.xticks(rotation=45, ha='right')\n",
    "plt.plot(cumulativeRevenueA['date'], cumulativeRevenueA['revenue']/cumulativeRevenueA['orders'], label='A')\n",
    "plt.plot(cumulativeRevenueB['date'], cumulativeRevenueB['revenue']/cumulativeRevenueB['orders'], label='B')\n",
    "plt.legend() \n",
    "plt.show()"
   ]
  },
  {
   "cell_type": "markdown",
   "metadata": {},
   "source": [
    "Кумулятивное значение чека колебалось до середины теста, далее у группы А ровное слегка восходящее движение, у группы В  резкий подъем и далее тенденция к плавному небольшому снижению."
   ]
  },
  {
   "cell_type": "markdown",
   "metadata": {},
   "source": [
    "<a id='8-bullet'></a>"
   ]
  },
  {
   "cell_type": "code",
   "execution_count": 16,
   "metadata": {
    "scrolled": false
   },
   "outputs": [
    {
     "name": "stderr",
     "output_type": "stream",
     "text": [
      "No artists with labels found to put in legend.  Note that artists whose label start with an underscore are ignored when legend() is called with no argument.\n"
     ]
    },
    {
     "data": {
      "image/png": "[encoded data removed]",
      "text/plain": [
       "<Figure size 1000x500 with 1 Axes>"
      ]
     },
     "metadata": {},
     "output_type": "display_data"
    }
   ],
   "source": [
    "# построим график относительного изменения кумулятивного среднего чека группы B к группе A\n",
    "mergedCumulativeRevenue = cumulativeRevenueA.merge(cumulativeRevenueB, left_on='date', right_on='date', how='left', suffixes=['A', 'B'])\n",
    "\n",
    "# cтроим отношение средних чеков\n",
    "plt.figure(figsize=(10, 5))\n",
    "plt.title('Изменение кумулятивного среднего чека группы B к группе A')\n",
    "plt.xticks(rotation=45, ha='right')\n",
    "plt.plot(mergedCumulativeRevenue['date'], (mergedCumulativeRevenue['revenueB']/mergedCumulativeRevenue['ordersB'])\\\n",
    "         /(mergedCumulativeRevenue['revenueA']/mergedCumulativeRevenue['ordersA'])-1)\n",
    "\n",
    "# добавляем ось X\n",
    "plt.axhline(y=0, color='black', linestyle='--') \n",
    "plt.legend()\n",
    "plt.show()"
   ]
  },
  {
   "cell_type": "markdown",
   "metadata": {},
   "source": [
    "Результаты теста значительно и резко менялись в несколько дат. Возможно, в эти даты были совершены аномальные заказы.\n",
    "Отметим резкий подъем в середине теста. В это же время также значительно выросла кумулятивная выручка и средний чек группы В."
   ]
  },
  {
   "cell_type": "markdown",
   "metadata": {},
   "source": [
    "<a id='9-bullet'></a>"
   ]
  },
  {
   "cell_type": "code",
   "execution_count": 17,
   "metadata": {
    "scrolled": false
   },
   "outputs": [
    {
     "data": {
      "image/png": "[encoded data removed]",
      "text/plain": [
       "<Figure size 1000x500 with 1 Axes>"
      ]
     },
     "metadata": {},
     "output_type": "display_data"
    }
   ],
   "source": [
    "# построим график кумулятивного среднего количества заказов на посетителя по группам.\n",
    "cumulativeData['average_order'] = cumulativeData['orders']/cumulativeData['visitors']\n",
    "\n",
    "cumulativeAverageOrderA = cumulativeData[cumulativeData['group']=='A'][['date','visitors', 'average_order']]\n",
    "cumulativeAverageOrderB = cumulativeData[cumulativeData['group']=='B'][['date','visitors', 'average_order']]\n",
    "\n",
    "\n",
    "plt.figure(figsize=(10, 5))\n",
    "plt.title('Кумулятивное среднее количество заказов на посетителя по группам')\n",
    "plt.xticks(rotation=45, ha='right')\n",
    "plt.plot(cumulativeAverageOrderA['date'], cumulativeAverageOrderA['average_order'], label='A')\n",
    "plt.plot(cumulativeAverageOrderB['date'], cumulativeAverageOrderB['average_order'], label='B')\n",
    "plt.legend() \n",
    "plt.show()\n",
    "\n"
   ]
  },
  {
   "cell_type": "markdown",
   "metadata": {},
   "source": [
    "В начале сегмент А имел большее значение, но в течение теста довольно резко снизился и зафисксировался примерно на одном уровне, гораздо ниже сегмента В. \n",
    "\n",
    "Сегмент В начально резко скакнул, снизился и начал уверенное восхождение. После пересечения с сегментом А установился стабильный уровень выше сегмента А на 4 пункта. "
   ]
  },
  {
   "cell_type": "markdown",
   "metadata": {},
   "source": [
    "<a id='10-bullet'></a>"
   ]
  },
  {
   "cell_type": "code",
   "execution_count": 18,
   "metadata": {
    "scrolled": false
   },
   "outputs": [
    {
     "name": "stderr",
     "output_type": "stream",
     "text": [
      "No artists with labels found to put in legend.  Note that artists whose label start with an underscore are ignored when legend() is called with no argument.\n"
     ]
    },
    {
     "data": {
      "image/png": "[encoded data removed]",
      "text/plain": [
       "<Figure size 1000x500 with 1 Axes>"
      ]
     },
     "metadata": {},
     "output_type": "display_data"
    }
   ],
   "source": [
    " # построим  график относительного изменения кумулятивного среднего количества заказов на посетителя группы B к группе A\n",
    "mergedCumulativeAverageOrder = cumulativeAverageOrderA.merge(cumulativeAverageOrderB, left_on='date', right_on='date', \\\n",
    "                                                             how='left', suffixes=['A', 'B'])\n",
    "\n",
    "# cтроим отношение среднего количества заказов\n",
    "plt.figure(figsize=(10, 5))\n",
    "plt.title('Изменение кумулятивного среднего количества заказов на посетителя группы B к группе A')\n",
    "plt.xticks(rotation=45, ha='right')\n",
    "plt.plot(mergedCumulativeAverageOrder['date'], (mergedCumulativeAverageOrder['average_orderB']/\\\n",
    "                                                mergedCumulativeAverageOrder['visitorsB'])\\\n",
    "         /(mergedCumulativeAverageOrder['average_orderA']/mergedCumulativeAverageOrder['visitorsA'])-1)\n",
    "\n",
    "# добавляем ось X\n",
    "plt.axhline(y=0, color='black', linestyle='--') \n",
    "plt.legend()\n",
    "plt.show()   "
   ]
  },
  {
   "cell_type": "markdown",
   "metadata": {},
   "source": [
    "Группа В уверенно лидирует по заказам с резким пиком и провалом в начале. Прирост количества заказов стал более ровным в середине теста и зафиксировался на уровне 10-15% прироста к групе А."
   ]
  },
  {
   "cell_type": "markdown",
   "metadata": {},
   "source": [
    "<a id='11-bullet'></a>"
   ]
  },
  {
   "cell_type": "code",
   "execution_count": 19,
   "metadata": {
    "scrolled": true
   },
   "outputs": [
    {
     "data": {
      "image/png": "[encoded data removed]",
      "text/plain": [
       "<Figure size 640x480 with 1 Axes>"
      ]
     },
     "metadata": {},
     "output_type": "display_data"
    }
   ],
   "source": [
    "# построим график количества заказов по пользователям\n",
    "ordersByUsers = (\n",
    "    orders.groupby('visitor_id', as_index=False)\n",
    "    .agg({'transaction_id': 'nunique'})\n",
    ")\n",
    "ordersByUsers.columns = ['visitor_id', 'orders']\n",
    "\n",
    "# серия из чисел от 0 до количества наблюдений в ordersByUsers\n",
    "x_values = pd.Series(range(0, len(ordersByUsers)))\n",
    "\n",
    "\n",
    "plt.scatter(x_values, ordersByUsers['orders'])\n",
    "plt.title('Количество заказов по пользователям')\n",
    "plt.show()"
   ]
  },
  {
   "cell_type": "markdown",
   "metadata": {},
   "source": [
    "Четко видно, что подавляющее большинство пользователей делат по 1 заказу, меньшая часть 2 и совсем маленькая 3."
   ]
  },
  {
   "cell_type": "markdown",
   "metadata": {},
   "source": [
    "<a id='12-bullet'></a>"
   ]
  },
  {
   "cell_type": "code",
   "execution_count": 20,
   "metadata": {
    "scrolled": true
   },
   "outputs": [
    {
     "data": {
      "text/html": [
       "<div>\n",
       "<style scoped>\n",
       "    .dataframe tbody tr th:only-of-type {\n",
       "        vertical-align: middle;\n",
       "    }\n",
       "\n",
       "    .dataframe tbody tr th {\n",
       "        vertical-align: top;\n",
       "    }\n",
       "\n",
       "    .dataframe thead th {\n",
       "        text-align: right;\n",
       "    }\n",
       "</style>\n",
       "<table border=\"1\" class=\"dataframe\">\n",
       "  <thead>\n",
       "    <tr style=\"text-align: right;\">\n",
       "      <th></th>\n",
       "      <th>visitor_id</th>\n",
       "      <th>orders</th>\n",
       "    </tr>\n",
       "  </thead>\n",
       "  <tbody>\n",
       "    <tr>\n",
       "      <th>908</th>\n",
       "      <td>3967698036</td>\n",
       "      <td>3</td>\n",
       "    </tr>\n",
       "    <tr>\n",
       "      <th>55</th>\n",
       "      <td>249864742</td>\n",
       "      <td>3</td>\n",
       "    </tr>\n",
       "    <tr>\n",
       "      <th>478</th>\n",
       "      <td>2108163459</td>\n",
       "      <td>3</td>\n",
       "    </tr>\n",
       "    <tr>\n",
       "      <th>687</th>\n",
       "      <td>2988190573</td>\n",
       "      <td>3</td>\n",
       "    </tr>\n",
       "    <tr>\n",
       "      <th>890</th>\n",
       "      <td>3908431265</td>\n",
       "      <td>3</td>\n",
       "    </tr>\n",
       "    <tr>\n",
       "      <th>138</th>\n",
       "      <td>611059232</td>\n",
       "      <td>3</td>\n",
       "    </tr>\n",
       "    <tr>\n",
       "      <th>632</th>\n",
       "      <td>2742574263</td>\n",
       "      <td>3</td>\n",
       "    </tr>\n",
       "    <tr>\n",
       "      <th>157</th>\n",
       "      <td>678354126</td>\n",
       "      <td>2</td>\n",
       "    </tr>\n",
       "    <tr>\n",
       "      <th>323</th>\n",
       "      <td>1404560065</td>\n",
       "      <td>2</td>\n",
       "    </tr>\n",
       "    <tr>\n",
       "      <th>452</th>\n",
       "      <td>1985475298</td>\n",
       "      <td>2</td>\n",
       "    </tr>\n",
       "  </tbody>\n",
       "</table>\n",
       "</div>"
      ],
      "text/plain": [
       "     visitor_id  orders\n",
       "908  3967698036       3\n",
       "55    249864742       3\n",
       "478  2108163459       3\n",
       "687  2988190573       3\n",
       "890  3908431265       3\n",
       "138   611059232       3\n",
       "632  2742574263       3\n",
       "157   678354126       2\n",
       "323  1404560065       2\n",
       "452  1985475298       2"
      ]
     },
     "metadata": {},
     "output_type": "display_data"
    },
    {
     "data": {
      "text/plain": [
       "array([1., 2.])"
      ]
     },
     "execution_count": 20,
     "metadata": {},
     "output_type": "execute_result"
    }
   ],
   "source": [
    "# посчитаем 95-й и 99-й перцентили количества заказов на пользователя.\n",
    "display(ordersByUsers.sort_values(by='orders', ascending=False).head(10))\n",
    "np.percentile(ordersByUsers['orders'], [95, 99]) "
   ]
  },
  {
   "cell_type": "markdown",
   "metadata": {},
   "source": [
    "Не более 5% пользователей оформляли больше 1 (т. е. 2) заказа. И 1% пользователей заказывали более 2 раз. "
   ]
  },
  {
   "cell_type": "markdown",
   "metadata": {},
   "source": [
    "<a id='13-bullet'></a>"
   ]
  },
  {
   "cell_type": "code",
   "execution_count": 21,
   "metadata": {
    "scrolled": true
   },
   "outputs": [
    {
     "data": {
      "image/png": "[encoded data removed]",
      "text/plain": [
       "<Figure size 640x480 with 1 Axes>"
      ]
     },
     "metadata": {},
     "output_type": "display_data"
    }
   ],
   "source": [
    "# построим точечный график стоимостей заказов\n",
    "revenueByUsers = (\n",
    "    orders.groupby('revenue', as_index=False)\n",
    "    .agg({'transaction_id': 'nunique'})\n",
    ")\n",
    "revenueByUsers.columns = ['revenue', 'orders']\n",
    "\n",
    "# серия из чисел от 0 до количества наблюдений в revenueByUsers\n",
    "x_values = pd.Series(range(0, len(revenueByUsers)))\n",
    "\n",
    "\n",
    "plt.scatter(x_values, revenueByUsers['orders']) \n",
    "plt.title('Стоимость заказов по пользователям')\n",
    "plt.show()"
   ]
  },
  {
   "cell_type": "markdown",
   "metadata": {},
   "source": [
    "Наибольшая часть заказов имеет стоимость в пределах 20-25 тысяч. Выясним подробнее."
   ]
  },
  {
   "cell_type": "markdown",
   "metadata": {},
   "source": [
    "<a id='14-bullet'></a>"
   ]
  },
  {
   "cell_type": "code",
   "execution_count": 22,
   "metadata": {},
   "outputs": [
    {
     "data": {
      "text/plain": [
       "array([26785., 53904.])"
      ]
     },
     "execution_count": 22,
     "metadata": {},
     "output_type": "execute_result"
    }
   ],
   "source": [
    "# посчитаем 95-й и 99-й перцентили стоимости заказов.\n",
    "np.percentile(orders['revenue'], [95, 99])"
   ]
  },
  {
   "cell_type": "markdown",
   "metadata": {},
   "source": [
    "Только 5% заказов превышают стоимость 26785р. и 1% больше 53904р. \n",
    "\n",
    "Определим нормальную границу стоимости заказа 22000р.\n",
    "\n",
    "Сформулируем гипотезы.\n",
    "\n",
    "Нулевая: различий в среднем количестве заказов между группами нет. \n",
    "\n",
    "Альтернативная: различия в среднем между группами есть."
   ]
  },
  {
   "cell_type": "markdown",
   "metadata": {},
   "source": [
    "<a id='15-bullet'></a>"
   ]
  },
  {
   "cell_type": "code",
   "execution_count": 23,
   "metadata": {},
   "outputs": [
    {
     "data": {
      "text/plain": [
       "'p-value 0.01102'"
      ]
     },
     "metadata": {},
     "output_type": "display_data"
    },
    {
     "data": {
      "text/plain": [
       "'0.160'"
      ]
     },
     "metadata": {},
     "output_type": "display_data"
    }
   ],
   "source": [
    "# посчитаем статистическую значимость различий в среднем количестве заказов на посетителя между группами по «сырым» данным\n",
    "visitorsADaily = visitors[visitors['group'] == 'A'][['date', 'visitors']]\n",
    "visitorsADaily.columns = ['date', 'visitorsPerDateA']\n",
    "\n",
    "visitorsACummulative = visitorsADaily.apply(\n",
    "    lambda x: visitorsADaily[visitorsADaily['date'] <= x['date']].agg(\n",
    "        {'date': 'max', 'visitorsPerDateA': 'sum'}\n",
    "    ),\n",
    "    axis=1,\n",
    ")\n",
    "visitorsACummulative.columns = ['date', 'visitorsCummulativeA']\n",
    "\n",
    "visitorsBDaily = visitors[visitors['group'] == 'B'][['date', 'visitors']]\n",
    "visitorsBDaily.columns = ['date', 'visitorsPerDateB']\n",
    "\n",
    "visitorsBCummulative = visitorsBDaily.apply(\n",
    "    lambda x: visitorsBDaily[visitorsBDaily['date'] <= x['date']].agg(\n",
    "        {'date': 'max', 'visitorsPerDateB': 'sum'}\n",
    "    ),\n",
    "    axis=1,\n",
    ")\n",
    "visitorsBCummulative.columns = ['date', 'visitorsCummulativeB']\n",
    "\n",
    "ordersADaily = (\n",
    "    orders[orders['group'] == 'A'][['date', 'transaction_id', 'visitor_id', 'revenue']]\n",
    "    .groupby('date', as_index=False)\n",
    "    .agg({'transaction_id': pd.Series.nunique, 'revenue': 'sum'})\n",
    ")\n",
    "ordersADaily.columns = ['date', 'ordersPerDateA', 'revenuePerDateA']\n",
    "\n",
    "ordersACummulative = ordersADaily.apply(\n",
    "    lambda x: ordersADaily[ordersADaily['date'] <= x['date']].agg(\n",
    "        {'date': 'max', 'ordersPerDateA': 'sum', 'revenuePerDateA': 'sum'}\n",
    "    ),\n",
    "    axis=1,\n",
    ").sort_values(by=['date'])\n",
    "ordersACummulative.columns = [\n",
    "    'date',\n",
    "    'ordersCummulativeA',\n",
    "    'revenueCummulativeA',\n",
    "]\n",
    "\n",
    "ordersBDaily = (\n",
    "    orders[orders['group'] == 'B'][['date', 'transaction_id', 'visitor_id', 'revenue']]\n",
    "    .groupby('date', as_index=False)\n",
    "    .agg({'transaction_id': pd.Series.nunique, 'revenue': 'sum'})\n",
    ")\n",
    "ordersBDaily.columns = ['date', 'ordersPerDateB', 'revenuePerDateB']\n",
    "\n",
    "ordersBCummulative = ordersBDaily.apply(\n",
    "    lambda x: ordersBDaily[ordersBDaily['date'] <= x['date']].agg(\n",
    "        {'date': 'max', 'ordersPerDateB': 'sum', 'revenuePerDateB': 'sum'}\n",
    "    ),\n",
    "    axis=1,\n",
    ").sort_values(by=['date'])\n",
    "ordersBCummulative.columns = [\n",
    "    'date',\n",
    "    'ordersCummulativeB',\n",
    "    'revenueCummulativeB',\n",
    "]\n",
    "\n",
    "data = (\n",
    "    ordersADaily.merge(\n",
    "        ordersBDaily, left_on='date', right_on='date', how='left'\n",
    "    )\n",
    "    .merge(ordersACummulative, left_on='date', right_on='date', how='left')\n",
    "    .merge(ordersBCummulative, left_on='date', right_on='date', how='left')\n",
    "    .merge(visitorsADaily, left_on='date', right_on='date', how='left')\n",
    "    .merge(visitorsBDaily, left_on='date', right_on='date', how='left')\n",
    "    .merge(visitorsACummulative, left_on='date', right_on='date', how='left')\n",
    "    .merge(visitorsBCummulative, left_on='date', right_on='date', how='left')\n",
    ")\n",
    "\n",
    "\n",
    "ordersByUsersA = (\n",
    "    orders[orders['group'] == 'A']\n",
    "    .groupby('visitor_id', as_index=False)\n",
    "    .agg({'transaction_id': pd.Series.nunique})\n",
    ")\n",
    "ordersByUsersA.columns = ['visitor_id', 'orders']\n",
    "\n",
    "ordersByUsersB = (\n",
    "    orders[orders['group'] == 'B']\n",
    "    .groupby('visitor_id', as_index=False)\n",
    "    .agg({'transaction_id': pd.Series.nunique})\n",
    ")\n",
    "ordersByUsersB.columns = ['visitor_id', 'orders'] \n",
    "\n",
    "pd.Series(0, index=np.arange(data['visitorsPerDateA'].sum() - len(ordersByUsersA['orders'])), name='orders')\n",
    " \n",
    "[ordersByUsersA['orders'],pd.Series(0, index=np.arange(data['visitorsPerDateA'].sum() - len(ordersByUsersA['orders'])), name='orders')]\n",
    "\n",
    "sampleA = pd.concat([ordersByUsersA['orders'],pd.Series(0, index=np.arange(data['visitorsPerDateA'].sum() - len(ordersByUsersA['orders'])), name='orders')],axis=0)\n",
    "\n",
    "sampleB = pd.concat([ordersByUsersB['orders'],pd.Series(0, index=np.arange(data['visitorsPerDateB'].sum() - len(ordersByUsersB['orders'])), name='orders')],axis=0)\n",
    "\n",
    "ordersByUsersA = (\n",
    "    orders[orders['group'] == 'A']\n",
    "    .groupby('visitor_id', as_index=False)\n",
    "    .agg({'transaction_id': pd.Series.nunique})\n",
    ")\n",
    "ordersByUsersA.columns = ['visitor_id', 'orders']\n",
    "\n",
    "ordersByUsersB = (\n",
    "    orders[orders['group'] == 'B']\n",
    "    .groupby('visitor_id', as_index=False)\n",
    "    .agg({'transaction_id': pd.Series.nunique})\n",
    ")\n",
    "ordersByUsersB.columns = ['visitor_id', 'orders']\n",
    "\n",
    "sampleA = pd.concat(\n",
    "    [\n",
    "        ordersByUsersA['orders'],\n",
    "        pd.Series(\n",
    "            0,\n",
    "            index=np.arange(\n",
    "                data['visitorsPerDateA'].sum() - len(ordersByUsersA['orders'])\n",
    "            ),\n",
    "            name='orders',\n",
    "        ),\n",
    "    ],\n",
    "    axis=0,\n",
    ")\n",
    "\n",
    "sampleB = pd.concat(\n",
    "    [\n",
    "        ordersByUsersB['orders'],\n",
    "        pd.Series(\n",
    "            0,\n",
    "            index=np.arange(\n",
    "                data['visitorsPerDateB'].sum() - len(ordersByUsersB['orders'])\n",
    "            ),\n",
    "            name='orders',\n",
    "        ),\n",
    "    ],\n",
    "    axis=0,\n",
    ")\n",
    "\n",
    "display(\"p-value {0:.5f}\".format(stats.mannwhitneyu(sampleA, sampleB)[1]))\n",
    "\n",
    "display(\"{0:.3f}\".format(sampleB.mean() / sampleA.mean() - 1))\n",
    " "
   ]
  },
  {
   "cell_type": "markdown",
   "metadata": {},
   "source": [
    "Р-value = 0.01102, меньше 0.05.  Значит, нулевую гипотезу о том, что статистически значимых различий в среднем числе заказов между группами нет, отвергаем.\n",
    "Относительный выигрыш группы B - 16%.\n",
    "\n",
    "Проверим статистическую значимость различий в среднем чеке между сегментами.\n",
    "Сформулируем гипотезы.\n",
    "\n",
    "Нулевая: различий в среднем чеке между группами нет. \n",
    "\n",
    "Альтернативная: различия в среднем чеке между группами есть.\n",
    "\n",
    "Также найдём относительные различия в среднем чеке между группами."
   ]
  },
  {
   "cell_type": "markdown",
   "metadata": {},
   "source": [
    "<a id='16-bullet'></a>"
   ]
  },
  {
   "cell_type": "code",
   "execution_count": 24,
   "metadata": {
    "scrolled": true
   },
   "outputs": [
    {
     "data": {
      "text/plain": [
       "'0.829'"
      ]
     },
     "metadata": {},
     "output_type": "display_data"
    },
    {
     "data": {
      "text/plain": [
       "'0.287'"
      ]
     },
     "metadata": {},
     "output_type": "display_data"
    }
   ],
   "source": [
    "# посчитаем статистическую значимость различий в среднем чеке заказа между группами по «сырым» данным\n",
    "display('{0:.3f}'.format(stats.mannwhitneyu(orders[orders['group']=='A']['revenue'], orders[orders['group']=='B']['revenue'])[1]))\n",
    "display('{0:.3f}'.format(orders[orders['group']=='B']['revenue'].mean()/orders[orders['group']=='A']['revenue'].mean()-1)) "
   ]
  },
  {
   "cell_type": "markdown",
   "metadata": {},
   "source": [
    "P-value значительно больше 0.05. Значит, нулевую гипотезу, что различий в среднем чеке между группами нет, не отвергаем. Наблюдаемое различие среднего чека групп в 28% не является статистически значимым.\n",
    "\n",
    "Очистим данные от аномалий и взглянем на результаты."
   ]
  },
  {
   "cell_type": "markdown",
   "metadata": {},
   "source": [
    "<a id='17-bullet'></a>"
   ]
  },
  {
   "cell_type": "code",
   "execution_count": 25,
   "metadata": {},
   "outputs": [
    {
     "data": {
      "text/plain": [
       "568     113298937\n",
       "1099    148427295\n",
       "461     154576532\n",
       "928     204675465\n",
       "33      249864742\n",
       "Name: visitor_id, dtype: int64"
      ]
     },
     "metadata": {},
     "output_type": "display_data"
    }
   ],
   "source": [
    "# определим список аномальных пользователей\n",
    "ordersByUsersA = (\n",
    "    orders[orders['group'] == 'A']\n",
    "    .groupby('visitor_id', as_index=False)\n",
    "    .agg({'transaction_id': pd.Series.nunique})\n",
    ")\n",
    "ordersByUsersA.columns = ['visitor_id', 'orders']\n",
    "\n",
    "ordersByUsersB = (\n",
    "    orders[orders['group'] == 'B']\n",
    "    .groupby('visitor_id', as_index=False)\n",
    "    .agg({'transaction_id': pd.Series.nunique})\n",
    ")\n",
    "ordersByUsersB.columns = ['visitor_id', 'orders']\n",
    "\n",
    "usersWithManyOrders = pd.concat(\n",
    "    [\n",
    "        ordersByUsersA[ordersByUsersA['orders'] > 2]['visitor_id'],\n",
    "        ordersByUsersB[ordersByUsersB['orders'] > 2]['visitor_id'],\n",
    "    ],\n",
    "    axis=0,\n",
    ")\n",
    "usersWithExpensiveOrders = orders[orders['revenue'] > 22000]['visitor_id']\n",
    "abnormalUsers = (\n",
    "    pd.concat([usersWithManyOrders, usersWithExpensiveOrders], axis=0)\n",
    "    .drop_duplicates()\n",
    "    .sort_values()\n",
    ")\n",
    "display(abnormalUsers.head(5))\n"
   ]
  },
  {
   "cell_type": "code",
   "execution_count": 26,
   "metadata": {},
   "outputs": [
    {
     "data": {
      "text/plain": [
       "'0.01400'"
      ]
     },
     "metadata": {},
     "output_type": "display_data"
    },
    {
     "data": {
      "text/plain": [
       "'0.180'"
      ]
     },
     "metadata": {},
     "output_type": "display_data"
    }
   ],
   "source": [
    "# очистим данные от аномальных значений \n",
    "# и посчитаем статистическую значимость различий в среднем количестве заказов на посетителя между группами по «очищенным» данным\n",
    "sampleAFiltered = pd.concat(\n",
    "    [\n",
    "        ordersByUsersA[\n",
    "            np.logical_not(ordersByUsersA['visitor_id'].isin(abnormalUsers))\n",
    "        ]['orders'],\n",
    "        pd.Series(\n",
    "            0,\n",
    "            index=np.arange(\n",
    "                data['visitorsPerDateA'].sum() - len(ordersByUsersA['orders'])\n",
    "            ),\n",
    "            name='orders',\n",
    "        ),\n",
    "    ],\n",
    "    axis=0,\n",
    ")\n",
    "\n",
    "sampleBFiltered = pd.concat(\n",
    "    [\n",
    "        ordersByUsersB[\n",
    "            np.logical_not(ordersByUsersB['visitor_id'].isin(abnormalUsers))\n",
    "        ]['orders'],\n",
    "        pd.Series(\n",
    "            0,\n",
    "            index=np.arange(\n",
    "                data['visitorsPerDateB'].sum() - len(ordersByUsersB['orders'])\n",
    "            ),\n",
    "            name='orders',\n",
    "        ),\n",
    "    ],\n",
    "    axis=0,\n",
    ") \n",
    "display('{0:.5f}'.format(stats.mannwhitneyu(sampleAFiltered, sampleBFiltered)[1]))\n",
    "display('{0:.3f}'.format(sampleBFiltered.mean()/sampleAFiltered.mean()-1)) "
   ]
  },
  {
   "cell_type": "markdown",
   "metadata": {},
   "source": [
    "Р-value = 0.01400, меньше 0.05.  \n",
    "Относительный выигрыш группы B - 18%.\n",
    "Очищенные данные показывают такой же результат, как сырые. Статистическая значимость достигнута. Сегмент В выигрывает у сегмента А.\n",
    "\n",
    "Проверим статистическую значимость чистых данных по среднему чеку."
   ]
  },
  {
   "cell_type": "markdown",
   "metadata": {},
   "source": [
    "<a id='18-bullet'></a>"
   ]
  },
  {
   "cell_type": "code",
   "execution_count": 27,
   "metadata": {},
   "outputs": [
    {
     "data": {
      "text/plain": [
       "'0.605'"
      ]
     },
     "metadata": {},
     "output_type": "display_data"
    },
    {
     "data": {
      "text/plain": [
       "'-0.062'"
      ]
     },
     "metadata": {},
     "output_type": "display_data"
    }
   ],
   "source": [
    "# посчитаем статистическую значимость различий в среднем чеке заказа между группами по «очищенным» данным\n",
    "display(\n",
    "    '{0:.3f}'.format(\n",
    "        stats.mannwhitneyu(\n",
    "            orders[\n",
    "                np.logical_and(\n",
    "                    orders['group'] == 'A',\n",
    "                    np.logical_not(orders['visitor_id'].isin(abnormalUsers)),\n",
    "                )\n",
    "            ]['revenue'],\n",
    "            orders[\n",
    "                np.logical_and(\n",
    "                    orders['group'] == 'B',\n",
    "                    np.logical_not(orders['visitor_id'].isin(abnormalUsers)),\n",
    "                )\n",
    "            ]['revenue'],\n",
    "        )[1]\n",
    "    )\n",
    ")\n",
    "\n",
    "display(\n",
    "    \"{0:.3f}\".format(\n",
    "        orders[\n",
    "            np.logical_and(\n",
    "                orders['group'] == 'B',\n",
    "                np.logical_not(orders['visitor_id'].isin(abnormalUsers)),\n",
    "            )\n",
    "        ]['revenue'].mean()\n",
    "        / orders[\n",
    "            np.logical_and(\n",
    "                orders['group'] == 'A',\n",
    "                np.logical_not(orders['visitor_id'].isin(abnormalUsers)),\n",
    "            )\n",
    "        ]['revenue'].mean()\n",
    "        - 1\n",
    "    )\n",
    ") "
   ]
  },
  {
   "cell_type": "markdown",
   "metadata": {},
   "source": [
    "По чистым данным средний чек группы B ниже среднего чека группы A на 6% - аномалии влияли на данные. Но статистически значимым данное различие не является. Т.к. p-value значительно больше 0.05. Значит, нулевую гипотезу, что различий в среднем чеке между группами нет, не отвергаем."
   ]
  },
  {
   "cell_type": "markdown",
   "metadata": {},
   "source": [
    "<a id='19-bullet'></a>"
   ]
  },
  {
   "cell_type": "markdown",
   "metadata": {},
   "source": [
    "## Выводы и рекомендации. ##\n",
    "Подытожим:\n",
    "- Достигнуто статистически значимое различие по среднему количеству заказов между группами по «сырым» и по данным после фильтрации аномалий;\n",
    "- Нет статистически значимого различия по среднему чеку между группами ни по «сырым», ни по данным после фильтрации аномалий;\n",
    "- График различия среднего количества заказов между группами сообщает, что результаты группы B лучше группы A;\n",
    "- График кумулятивного среднего чека и кумулятивной выручки по группам говорят о том, что результаты группы B лучше группы А. \n",
    "- График относительного изменения кумулятивного среднего чека группы B к группе A демонстрирует тоже самое, но есть небольшая плавная тенденция к уменьшению разницы чеков к концу теста.\n",
    "\n",
    "Исходя из обнаруженных фактов, тест следует остановить, признать его успешным и зафиксировать победу группы В.\n",
    "\n"
   ]
  }
 ],
 "metadata": {
  "ExecuteTimeLog": [
   {
    "duration": 809,
    "start_time": "2023-05-23T11:11:36.749Z"
   },
   {
    "duration": 230,
    "start_time": "2023-05-23T11:11:39.618Z"
   },
   {
    "duration": 22,
    "start_time": "2023-05-23T11:12:22.096Z"
   },
   {
    "duration": 7,
    "start_time": "2023-05-23T11:12:51.883Z"
   },
   {
    "duration": 22,
    "start_time": "2023-05-23T11:13:27.559Z"
   },
   {
    "duration": 24,
    "start_time": "2023-05-23T11:14:28.452Z"
   },
   {
    "duration": 3,
    "start_time": "2023-05-23T11:16:47.346Z"
   },
   {
    "duration": 7,
    "start_time": "2023-05-23T11:17:02.192Z"
   },
   {
    "duration": 16,
    "start_time": "2023-05-23T11:17:51.557Z"
   },
   {
    "duration": 7,
    "start_time": "2023-05-23T11:19:25.488Z"
   },
   {
    "duration": 6,
    "start_time": "2023-05-23T11:19:46.392Z"
   },
   {
    "duration": 105,
    "start_time": "2023-05-23T11:31:52.081Z"
   },
   {
    "duration": 8,
    "start_time": "2023-05-23T11:32:02.654Z"
   },
   {
    "duration": 8,
    "start_time": "2023-05-23T11:32:12.975Z"
   },
   {
    "duration": 90,
    "start_time": "2023-05-23T11:40:08.040Z"
   },
   {
    "duration": 820,
    "start_time": "2023-05-23T11:40:18.304Z"
   },
   {
    "duration": 91,
    "start_time": "2023-05-23T11:40:19.127Z"
   },
   {
    "duration": 21,
    "start_time": "2023-05-23T11:40:19.220Z"
   },
   {
    "duration": 19,
    "start_time": "2023-05-23T11:40:19.243Z"
   },
   {
    "duration": 3,
    "start_time": "2023-05-23T11:40:19.264Z"
   },
   {
    "duration": 5,
    "start_time": "2023-05-23T11:40:19.268Z"
   },
   {
    "duration": 10,
    "start_time": "2023-05-23T11:40:19.274Z"
   },
   {
    "duration": 104,
    "start_time": "2023-05-23T11:40:19.285Z"
   },
   {
    "duration": 18,
    "start_time": "2023-05-23T11:41:56.297Z"
   },
   {
    "duration": 793,
    "start_time": "2023-05-23T11:42:17.122Z"
   },
   {
    "duration": 82,
    "start_time": "2023-05-23T11:42:17.918Z"
   },
   {
    "duration": 32,
    "start_time": "2023-05-23T11:42:18.001Z"
   },
   {
    "duration": 20,
    "start_time": "2023-05-23T11:42:18.034Z"
   },
   {
    "duration": 3,
    "start_time": "2023-05-23T11:42:18.056Z"
   },
   {
    "duration": 7,
    "start_time": "2023-05-23T11:42:18.060Z"
   },
   {
    "duration": 8,
    "start_time": "2023-05-23T11:42:18.068Z"
   },
   {
    "duration": 98,
    "start_time": "2023-05-23T11:42:18.078Z"
   },
   {
    "duration": 9,
    "start_time": "2023-05-23T11:44:42.046Z"
   },
   {
    "duration": 10,
    "start_time": "2023-05-23T11:45:02.939Z"
   },
   {
    "duration": 832,
    "start_time": "2023-05-23T11:45:07.903Z"
   },
   {
    "duration": 84,
    "start_time": "2023-05-23T11:45:08.737Z"
   },
   {
    "duration": 22,
    "start_time": "2023-05-23T11:45:08.822Z"
   },
   {
    "duration": 20,
    "start_time": "2023-05-23T11:45:08.845Z"
   },
   {
    "duration": 3,
    "start_time": "2023-05-23T11:45:08.867Z"
   },
   {
    "duration": 11,
    "start_time": "2023-05-23T11:45:08.871Z"
   },
   {
    "duration": 8,
    "start_time": "2023-05-23T11:45:08.884Z"
   },
   {
    "duration": 96,
    "start_time": "2023-05-23T11:45:08.893Z"
   },
   {
    "duration": 0,
    "start_time": "2023-05-23T11:45:08.990Z"
   },
   {
    "duration": 5,
    "start_time": "2023-05-23T11:45:39.123Z"
   },
   {
    "duration": 12,
    "start_time": "2023-05-23T11:45:57.578Z"
   },
   {
    "duration": 780,
    "start_time": "2023-05-23T11:51:38.576Z"
   },
   {
    "duration": 801,
    "start_time": "2023-05-23T11:52:03.861Z"
   },
   {
    "duration": 782,
    "start_time": "2023-05-23T11:52:15.816Z"
   },
   {
    "duration": 90,
    "start_time": "2023-05-23T11:52:16.600Z"
   },
   {
    "duration": 35,
    "start_time": "2023-05-23T11:52:16.692Z"
   },
   {
    "duration": 22,
    "start_time": "2023-05-23T11:52:16.729Z"
   },
   {
    "duration": 10,
    "start_time": "2023-05-23T11:52:16.752Z"
   },
   {
    "duration": 6,
    "start_time": "2023-05-23T11:52:16.763Z"
   },
   {
    "duration": 11,
    "start_time": "2023-05-23T11:52:16.771Z"
   },
   {
    "duration": 884,
    "start_time": "2023-05-23T11:52:16.783Z"
   },
   {
    "duration": 0,
    "start_time": "2023-05-23T11:52:17.669Z"
   },
   {
    "duration": 8,
    "start_time": "2023-05-23T11:52:49.271Z"
   },
   {
    "duration": 7,
    "start_time": "2023-05-23T11:53:08.223Z"
   },
   {
    "duration": 804,
    "start_time": "2023-05-23T11:54:07.716Z"
   },
   {
    "duration": 104,
    "start_time": "2023-05-23T11:54:08.522Z"
   },
   {
    "duration": 29,
    "start_time": "2023-05-23T11:54:08.627Z"
   },
   {
    "duration": 24,
    "start_time": "2023-05-23T11:54:08.659Z"
   },
   {
    "duration": 8,
    "start_time": "2023-05-23T11:54:08.685Z"
   },
   {
    "duration": 9,
    "start_time": "2023-05-23T11:54:08.694Z"
   },
   {
    "duration": 13,
    "start_time": "2023-05-23T11:54:08.705Z"
   },
   {
    "duration": 10,
    "start_time": "2023-05-23T11:54:08.720Z"
   },
   {
    "duration": 600,
    "start_time": "2023-05-23T11:54:08.734Z"
   },
   {
    "duration": 767,
    "start_time": "2023-05-23T11:55:04.257Z"
   },
   {
    "duration": 93,
    "start_time": "2023-05-23T11:55:05.027Z"
   },
   {
    "duration": 20,
    "start_time": "2023-05-23T11:55:05.123Z"
   },
   {
    "duration": 29,
    "start_time": "2023-05-23T11:55:05.145Z"
   },
   {
    "duration": 3,
    "start_time": "2023-05-23T11:55:05.176Z"
   },
   {
    "duration": 10,
    "start_time": "2023-05-23T11:55:05.180Z"
   },
   {
    "duration": 41,
    "start_time": "2023-05-23T11:55:05.192Z"
   },
   {
    "duration": 17,
    "start_time": "2023-05-23T11:55:05.234Z"
   },
   {
    "duration": 338,
    "start_time": "2023-05-23T11:55:05.252Z"
   },
   {
    "duration": 11,
    "start_time": "2023-05-23T11:59:53.806Z"
   },
   {
    "duration": 8,
    "start_time": "2023-05-23T12:00:02.372Z"
   },
   {
    "duration": 11,
    "start_time": "2023-05-23T12:00:15.849Z"
   },
   {
    "duration": 8,
    "start_time": "2023-05-23T12:03:14.738Z"
   },
   {
    "duration": 9,
    "start_time": "2023-05-23T12:04:36.968Z"
   },
   {
    "duration": 15,
    "start_time": "2023-05-23T12:21:10.778Z"
   },
   {
    "duration": 10,
    "start_time": "2023-05-23T12:26:30.620Z"
   },
   {
    "duration": 778,
    "start_time": "2023-05-23T12:34:09.345Z"
   },
   {
    "duration": 82,
    "start_time": "2023-05-23T12:34:10.125Z"
   },
   {
    "duration": 23,
    "start_time": "2023-05-23T12:34:10.209Z"
   },
   {
    "duration": 21,
    "start_time": "2023-05-23T12:34:10.234Z"
   },
   {
    "duration": 11,
    "start_time": "2023-05-23T12:34:10.256Z"
   },
   {
    "duration": 7,
    "start_time": "2023-05-23T12:34:10.268Z"
   },
   {
    "duration": 34,
    "start_time": "2023-05-23T12:34:10.276Z"
   },
   {
    "duration": 5,
    "start_time": "2023-05-23T12:34:10.312Z"
   },
   {
    "duration": 13,
    "start_time": "2023-05-23T12:34:10.319Z"
   },
   {
    "duration": 11,
    "start_time": "2023-05-23T12:34:10.335Z"
   },
   {
    "duration": 21,
    "start_time": "2023-05-23T12:34:10.348Z"
   },
   {
    "duration": 31,
    "start_time": "2023-05-23T12:34:10.371Z"
   },
   {
    "duration": 415,
    "start_time": "2023-05-23T12:43:13.360Z"
   },
   {
    "duration": 1225,
    "start_time": "2023-05-23T12:44:34.821Z"
   },
   {
    "duration": 101,
    "start_time": "2023-05-23T12:44:36.048Z"
   },
   {
    "duration": 22,
    "start_time": "2023-05-23T12:44:36.150Z"
   },
   {
    "duration": 25,
    "start_time": "2023-05-23T12:44:36.175Z"
   },
   {
    "duration": 3,
    "start_time": "2023-05-23T12:44:36.202Z"
   },
   {
    "duration": 18,
    "start_time": "2023-05-23T12:44:36.207Z"
   },
   {
    "duration": 14,
    "start_time": "2023-05-23T12:44:36.227Z"
   },
   {
    "duration": 4,
    "start_time": "2023-05-23T12:44:36.243Z"
   },
   {
    "duration": 25,
    "start_time": "2023-05-23T12:44:36.248Z"
   },
   {
    "duration": 9,
    "start_time": "2023-05-23T12:44:36.274Z"
   },
   {
    "duration": 12,
    "start_time": "2023-05-23T12:44:36.284Z"
   },
   {
    "duration": 20,
    "start_time": "2023-05-23T12:44:36.297Z"
   },
   {
    "duration": 353,
    "start_time": "2023-05-23T12:44:36.319Z"
   },
   {
    "duration": 238,
    "start_time": "2023-05-23T12:44:51.975Z"
   },
   {
    "duration": 1021,
    "start_time": "2023-05-23T12:46:42.040Z"
   },
   {
    "duration": 81,
    "start_time": "2023-05-23T12:46:43.063Z"
   },
   {
    "duration": 19,
    "start_time": "2023-05-23T12:46:43.145Z"
   },
   {
    "duration": 21,
    "start_time": "2023-05-23T12:46:43.165Z"
   },
   {
    "duration": 13,
    "start_time": "2023-05-23T12:46:43.188Z"
   },
   {
    "duration": 30,
    "start_time": "2023-05-23T12:46:43.203Z"
   },
   {
    "duration": 21,
    "start_time": "2023-05-23T12:46:43.235Z"
   },
   {
    "duration": 8,
    "start_time": "2023-05-23T12:46:43.257Z"
   },
   {
    "duration": 32,
    "start_time": "2023-05-23T12:46:43.267Z"
   },
   {
    "duration": 23,
    "start_time": "2023-05-23T12:46:43.301Z"
   },
   {
    "duration": 13,
    "start_time": "2023-05-23T12:46:43.326Z"
   },
   {
    "duration": 15,
    "start_time": "2023-05-23T12:46:43.340Z"
   },
   {
    "duration": 284,
    "start_time": "2023-05-23T12:46:43.356Z"
   },
   {
    "duration": 5,
    "start_time": "2023-05-23T12:49:07.091Z"
   },
   {
    "duration": 15,
    "start_time": "2023-05-23T12:49:30.302Z"
   },
   {
    "duration": 5,
    "start_time": "2023-05-23T12:51:19.068Z"
   },
   {
    "duration": 1074,
    "start_time": "2023-05-23T12:56:11.976Z"
   },
   {
    "duration": 85,
    "start_time": "2023-05-23T12:56:13.052Z"
   },
   {
    "duration": 21,
    "start_time": "2023-05-23T12:56:13.139Z"
   },
   {
    "duration": 23,
    "start_time": "2023-05-23T12:56:13.161Z"
   },
   {
    "duration": 495,
    "start_time": "2023-05-23T12:56:13.186Z"
   },
   {
    "duration": 0,
    "start_time": "2023-05-23T12:56:13.682Z"
   },
   {
    "duration": 0,
    "start_time": "2023-05-23T12:56:13.684Z"
   },
   {
    "duration": 0,
    "start_time": "2023-05-23T12:56:13.685Z"
   },
   {
    "duration": 0,
    "start_time": "2023-05-23T12:56:13.686Z"
   },
   {
    "duration": 0,
    "start_time": "2023-05-23T12:56:13.687Z"
   },
   {
    "duration": 0,
    "start_time": "2023-05-23T12:56:13.688Z"
   },
   {
    "duration": 0,
    "start_time": "2023-05-23T12:56:13.689Z"
   },
   {
    "duration": 0,
    "start_time": "2023-05-23T12:56:13.691Z"
   },
   {
    "duration": 0,
    "start_time": "2023-05-23T12:56:13.692Z"
   },
   {
    "duration": 990,
    "start_time": "2023-05-23T12:57:33.856Z"
   },
   {
    "duration": 74,
    "start_time": "2023-05-23T12:57:34.848Z"
   },
   {
    "duration": 19,
    "start_time": "2023-05-23T12:57:34.924Z"
   },
   {
    "duration": 22,
    "start_time": "2023-05-23T12:57:34.945Z"
   },
   {
    "duration": 8,
    "start_time": "2023-05-23T12:57:34.969Z"
   },
   {
    "duration": 16,
    "start_time": "2023-05-23T12:57:34.979Z"
   },
   {
    "duration": 13,
    "start_time": "2023-05-23T12:57:34.997Z"
   },
   {
    "duration": 7,
    "start_time": "2023-05-23T12:57:35.012Z"
   },
   {
    "duration": 23,
    "start_time": "2023-05-23T12:57:35.021Z"
   },
   {
    "duration": 16,
    "start_time": "2023-05-23T12:57:35.047Z"
   },
   {
    "duration": 18,
    "start_time": "2023-05-23T12:57:35.065Z"
   },
   {
    "duration": 26,
    "start_time": "2023-05-23T12:57:35.085Z"
   },
   {
    "duration": 295,
    "start_time": "2023-05-23T12:57:35.113Z"
   },
   {
    "duration": 1083,
    "start_time": "2023-05-23T12:58:59.643Z"
   },
   {
    "duration": 75,
    "start_time": "2023-05-23T12:59:00.727Z"
   },
   {
    "duration": 21,
    "start_time": "2023-05-23T12:59:00.804Z"
   },
   {
    "duration": 84,
    "start_time": "2023-05-23T12:59:00.827Z"
   },
   {
    "duration": 36,
    "start_time": "2023-05-23T12:59:00.913Z"
   },
   {
    "duration": 112,
    "start_time": "2023-05-23T12:59:00.951Z"
   },
   {
    "duration": 42,
    "start_time": "2023-05-23T12:59:01.065Z"
   },
   {
    "duration": 51,
    "start_time": "2023-05-23T12:59:01.109Z"
   },
   {
    "duration": 48,
    "start_time": "2023-05-23T12:59:01.161Z"
   },
   {
    "duration": 43,
    "start_time": "2023-05-23T12:59:01.211Z"
   },
   {
    "duration": 76,
    "start_time": "2023-05-23T12:59:01.255Z"
   },
   {
    "duration": 62,
    "start_time": "2023-05-23T12:59:01.333Z"
   },
   {
    "duration": 369,
    "start_time": "2023-05-23T12:59:01.397Z"
   },
   {
    "duration": 0,
    "start_time": "2023-05-23T12:59:01.768Z"
   },
   {
    "duration": 396,
    "start_time": "2023-05-23T13:01:46.622Z"
   },
   {
    "duration": 1303,
    "start_time": "2023-05-23T15:14:03.842Z"
   },
   {
    "duration": 184,
    "start_time": "2023-05-23T15:14:05.147Z"
   },
   {
    "duration": 22,
    "start_time": "2023-05-23T15:14:05.333Z"
   },
   {
    "duration": 23,
    "start_time": "2023-05-23T15:14:05.357Z"
   },
   {
    "duration": 3,
    "start_time": "2023-05-23T15:14:05.382Z"
   },
   {
    "duration": 10,
    "start_time": "2023-05-23T15:14:05.386Z"
   },
   {
    "duration": 13,
    "start_time": "2023-05-23T15:14:05.397Z"
   },
   {
    "duration": 4,
    "start_time": "2023-05-23T15:14:05.412Z"
   },
   {
    "duration": 12,
    "start_time": "2023-05-23T15:14:05.418Z"
   },
   {
    "duration": 8,
    "start_time": "2023-05-23T15:14:05.433Z"
   },
   {
    "duration": 39,
    "start_time": "2023-05-23T15:14:05.443Z"
   },
   {
    "duration": 16,
    "start_time": "2023-05-23T15:14:05.484Z"
   },
   {
    "duration": 323,
    "start_time": "2023-05-23T15:14:05.502Z"
   },
   {
    "duration": 0,
    "start_time": "2023-05-23T15:14:05.828Z"
   },
   {
    "duration": 218,
    "start_time": "2023-05-23T15:14:40.708Z"
   },
   {
    "duration": 40,
    "start_time": "2023-05-23T15:15:14.271Z"
   },
   {
    "duration": 250,
    "start_time": "2023-05-23T15:15:59.879Z"
   },
   {
    "duration": 1078,
    "start_time": "2023-05-23T15:16:53.111Z"
   },
   {
    "duration": 72,
    "start_time": "2023-05-23T15:16:54.191Z"
   },
   {
    "duration": 20,
    "start_time": "2023-05-23T15:16:54.264Z"
   },
   {
    "duration": 22,
    "start_time": "2023-05-23T15:16:54.286Z"
   },
   {
    "duration": 4,
    "start_time": "2023-05-23T15:16:54.309Z"
   },
   {
    "duration": 5,
    "start_time": "2023-05-23T15:16:54.314Z"
   },
   {
    "duration": 10,
    "start_time": "2023-05-23T15:16:54.320Z"
   },
   {
    "duration": 4,
    "start_time": "2023-05-23T15:16:54.332Z"
   },
   {
    "duration": 46,
    "start_time": "2023-05-23T15:16:54.337Z"
   },
   {
    "duration": 10,
    "start_time": "2023-05-23T15:16:54.385Z"
   },
   {
    "duration": 11,
    "start_time": "2023-05-23T15:16:54.396Z"
   },
   {
    "duration": 13,
    "start_time": "2023-05-23T15:16:54.409Z"
   },
   {
    "duration": 142,
    "start_time": "2023-05-23T15:16:54.424Z"
   },
   {
    "duration": 0,
    "start_time": "2023-05-23T15:16:54.568Z"
   },
   {
    "duration": 13,
    "start_time": "2023-05-23T15:18:09.863Z"
   },
   {
    "duration": 198,
    "start_time": "2023-05-23T15:19:41.179Z"
   },
   {
    "duration": 1041,
    "start_time": "2023-05-23T15:19:54.632Z"
   },
   {
    "duration": 72,
    "start_time": "2023-05-23T15:19:55.675Z"
   },
   {
    "duration": 22,
    "start_time": "2023-05-23T15:19:55.749Z"
   },
   {
    "duration": 24,
    "start_time": "2023-05-23T15:19:55.772Z"
   },
   {
    "duration": 12,
    "start_time": "2023-05-23T15:19:55.798Z"
   },
   {
    "duration": 26,
    "start_time": "2023-05-23T15:19:55.811Z"
   },
   {
    "duration": 14,
    "start_time": "2023-05-23T15:19:55.839Z"
   },
   {
    "duration": 21,
    "start_time": "2023-05-23T15:19:55.855Z"
   },
   {
    "duration": 29,
    "start_time": "2023-05-23T15:19:55.877Z"
   },
   {
    "duration": 25,
    "start_time": "2023-05-23T15:19:55.908Z"
   },
   {
    "duration": 10,
    "start_time": "2023-05-23T15:19:55.935Z"
   },
   {
    "duration": 54,
    "start_time": "2023-05-23T15:19:55.947Z"
   },
   {
    "duration": 28,
    "start_time": "2023-05-23T15:19:56.003Z"
   },
   {
    "duration": 132,
    "start_time": "2023-05-23T15:19:56.032Z"
   },
   {
    "duration": 0,
    "start_time": "2023-05-23T15:19:56.166Z"
   },
   {
    "duration": 199,
    "start_time": "2023-05-23T15:20:43.638Z"
   },
   {
    "duration": 500,
    "start_time": "2023-05-23T15:31:08.847Z"
   },
   {
    "duration": 435,
    "start_time": "2023-05-23T15:32:17.549Z"
   },
   {
    "duration": 416,
    "start_time": "2023-05-23T15:33:54.381Z"
   },
   {
    "duration": 402,
    "start_time": "2023-05-23T15:34:24.809Z"
   },
   {
    "duration": 417,
    "start_time": "2023-05-23T15:34:34.037Z"
   },
   {
    "duration": 405,
    "start_time": "2023-05-23T15:34:42.176Z"
   },
   {
    "duration": 495,
    "start_time": "2023-05-23T15:36:57.204Z"
   },
   {
    "duration": 424,
    "start_time": "2023-05-23T15:37:22.314Z"
   },
   {
    "duration": 418,
    "start_time": "2023-05-23T15:39:40.637Z"
   },
   {
    "duration": 702,
    "start_time": "2023-05-23T15:40:17.312Z"
   },
   {
    "duration": 461,
    "start_time": "2023-05-23T15:40:47.782Z"
   },
   {
    "duration": 430,
    "start_time": "2023-05-23T15:41:56.250Z"
   },
   {
    "duration": 444,
    "start_time": "2023-05-23T15:42:01.406Z"
   },
   {
    "duration": 470,
    "start_time": "2023-05-23T15:43:16.448Z"
   },
   {
    "duration": 259,
    "start_time": "2023-05-23T15:43:39.151Z"
   },
   {
    "duration": 450,
    "start_time": "2023-05-23T15:44:41.965Z"
   },
   {
    "duration": 466,
    "start_time": "2023-05-23T15:44:50.115Z"
   },
   {
    "duration": 463,
    "start_time": "2023-05-23T15:45:02.598Z"
   },
   {
    "duration": 580,
    "start_time": "2023-05-23T15:45:15.572Z"
   },
   {
    "duration": 482,
    "start_time": "2023-05-23T15:45:26.754Z"
   },
   {
    "duration": 597,
    "start_time": "2023-05-23T15:45:39.065Z"
   },
   {
    "duration": 440,
    "start_time": "2023-05-23T15:45:50.963Z"
   },
   {
    "duration": 500,
    "start_time": "2023-05-23T15:46:02.586Z"
   },
   {
    "duration": 1002,
    "start_time": "2023-05-23T15:46:20.521Z"
   },
   {
    "duration": 74,
    "start_time": "2023-05-23T15:46:21.524Z"
   },
   {
    "duration": 20,
    "start_time": "2023-05-23T15:46:21.599Z"
   },
   {
    "duration": 22,
    "start_time": "2023-05-23T15:46:21.620Z"
   },
   {
    "duration": 4,
    "start_time": "2023-05-23T15:46:21.644Z"
   },
   {
    "duration": 15,
    "start_time": "2023-05-23T15:46:21.649Z"
   },
   {
    "duration": 12,
    "start_time": "2023-05-23T15:46:21.666Z"
   },
   {
    "duration": 4,
    "start_time": "2023-05-23T15:46:21.680Z"
   },
   {
    "duration": 42,
    "start_time": "2023-05-23T15:46:21.685Z"
   },
   {
    "duration": 49,
    "start_time": "2023-05-23T15:46:21.728Z"
   },
   {
    "duration": 40,
    "start_time": "2023-05-23T15:46:21.779Z"
   },
   {
    "duration": 45,
    "start_time": "2023-05-23T15:46:21.821Z"
   },
   {
    "duration": 10,
    "start_time": "2023-05-23T15:46:21.868Z"
   },
   {
    "duration": 538,
    "start_time": "2023-05-23T15:46:21.880Z"
   },
   {
    "duration": 525,
    "start_time": "2023-05-23T15:48:11.259Z"
   },
   {
    "duration": 483,
    "start_time": "2023-05-23T15:48:26.239Z"
   },
   {
    "duration": 493,
    "start_time": "2023-05-23T15:49:11.054Z"
   },
   {
    "duration": 512,
    "start_time": "2023-05-23T15:49:24.215Z"
   },
   {
    "duration": 564,
    "start_time": "2023-05-23T15:49:41.016Z"
   },
   {
    "duration": 490,
    "start_time": "2023-05-23T15:49:54.968Z"
   },
   {
    "duration": 541,
    "start_time": "2023-05-23T15:50:02.243Z"
   },
   {
    "duration": 578,
    "start_time": "2023-05-23T15:50:24.492Z"
   },
   {
    "duration": 561,
    "start_time": "2023-05-23T15:50:37.066Z"
   },
   {
    "duration": 522,
    "start_time": "2023-05-23T15:50:46.556Z"
   },
   {
    "duration": 482,
    "start_time": "2023-05-23T15:51:06.681Z"
   },
   {
    "duration": 514,
    "start_time": "2023-05-23T15:51:42.559Z"
   },
   {
    "duration": 52,
    "start_time": "2023-05-23T15:52:16.443Z"
   },
   {
    "duration": 554,
    "start_time": "2023-05-23T15:52:27.158Z"
   },
   {
    "duration": 390,
    "start_time": "2023-05-23T15:55:02.451Z"
   },
   {
    "duration": 274,
    "start_time": "2023-05-23T15:55:25.331Z"
   },
   {
    "duration": 1037,
    "start_time": "2023-05-23T15:55:32.001Z"
   },
   {
    "duration": 71,
    "start_time": "2023-05-23T15:55:33.040Z"
   },
   {
    "duration": 20,
    "start_time": "2023-05-23T15:55:33.113Z"
   },
   {
    "duration": 24,
    "start_time": "2023-05-23T15:55:33.134Z"
   },
   {
    "duration": 3,
    "start_time": "2023-05-23T15:55:33.159Z"
   },
   {
    "duration": 8,
    "start_time": "2023-05-23T15:55:33.163Z"
   },
   {
    "duration": 10,
    "start_time": "2023-05-23T15:55:33.172Z"
   },
   {
    "duration": 4,
    "start_time": "2023-05-23T15:55:33.184Z"
   },
   {
    "duration": 11,
    "start_time": "2023-05-23T15:55:33.190Z"
   },
   {
    "duration": 8,
    "start_time": "2023-05-23T15:55:33.203Z"
   },
   {
    "duration": 9,
    "start_time": "2023-05-23T15:55:33.213Z"
   },
   {
    "duration": 9,
    "start_time": "2023-05-23T15:55:33.224Z"
   },
   {
    "duration": 45,
    "start_time": "2023-05-23T15:55:33.234Z"
   },
   {
    "duration": 521,
    "start_time": "2023-05-23T15:55:33.281Z"
   },
   {
    "duration": 262,
    "start_time": "2023-05-23T15:55:33.804Z"
   },
   {
    "duration": 346,
    "start_time": "2023-05-23T15:55:34.068Z"
   },
   {
    "duration": 235,
    "start_time": "2023-05-23T15:57:10.271Z"
   },
   {
    "duration": 388,
    "start_time": "2023-05-23T15:57:22.952Z"
   },
   {
    "duration": 339,
    "start_time": "2023-05-23T15:57:32.295Z"
   },
   {
    "duration": 11,
    "start_time": "2023-05-23T16:06:55.570Z"
   },
   {
    "duration": 11,
    "start_time": "2023-05-23T16:11:22.980Z"
   },
   {
    "duration": 10,
    "start_time": "2023-05-23T16:15:25.951Z"
   },
   {
    "duration": 288,
    "start_time": "2023-05-23T16:18:06.571Z"
   },
   {
    "duration": 774,
    "start_time": "2023-05-23T16:18:16.475Z"
   },
   {
    "duration": 245,
    "start_time": "2023-05-23T16:18:52.087Z"
   },
   {
    "duration": 239,
    "start_time": "2023-05-23T16:19:38.999Z"
   },
   {
    "duration": 786,
    "start_time": "2023-05-23T16:19:45.989Z"
   },
   {
    "duration": 1108,
    "start_time": "2023-05-23T16:20:16.688Z"
   },
   {
    "duration": 72,
    "start_time": "2023-05-23T16:20:17.798Z"
   },
   {
    "duration": 18,
    "start_time": "2023-05-23T16:20:17.872Z"
   },
   {
    "duration": 21,
    "start_time": "2023-05-23T16:20:17.892Z"
   },
   {
    "duration": 7,
    "start_time": "2023-05-23T16:20:17.915Z"
   },
   {
    "duration": 7,
    "start_time": "2023-05-23T16:20:17.924Z"
   },
   {
    "duration": 11,
    "start_time": "2023-05-23T16:20:17.933Z"
   },
   {
    "duration": 14,
    "start_time": "2023-05-23T16:20:17.946Z"
   },
   {
    "duration": 12,
    "start_time": "2023-05-23T16:20:17.979Z"
   },
   {
    "duration": 9,
    "start_time": "2023-05-23T16:20:17.992Z"
   },
   {
    "duration": 9,
    "start_time": "2023-05-23T16:20:18.003Z"
   },
   {
    "duration": 10,
    "start_time": "2023-05-23T16:20:18.014Z"
   },
   {
    "duration": 25,
    "start_time": "2023-05-23T16:20:18.026Z"
   },
   {
    "duration": 531,
    "start_time": "2023-05-23T16:20:18.054Z"
   },
   {
    "duration": 276,
    "start_time": "2023-05-23T16:20:18.587Z"
   },
   {
    "duration": 381,
    "start_time": "2023-05-23T16:20:18.865Z"
   },
   {
    "duration": 286,
    "start_time": "2023-05-23T16:20:19.248Z"
   },
   {
    "duration": 887,
    "start_time": "2023-05-23T16:20:19.535Z"
   },
   {
    "duration": 6,
    "start_time": "2023-05-23T16:25:04.359Z"
   },
   {
    "duration": 7,
    "start_time": "2023-05-23T16:28:00.123Z"
   },
   {
    "duration": 8,
    "start_time": "2023-05-23T16:28:58.592Z"
   },
   {
    "duration": 301,
    "start_time": "2023-05-23T16:29:07.620Z"
   },
   {
    "duration": 430,
    "start_time": "2023-05-23T16:45:45.561Z"
   },
   {
    "duration": 20,
    "start_time": "2023-05-23T16:46:26.758Z"
   },
   {
    "duration": 1035,
    "start_time": "2023-05-23T16:47:03.723Z"
   },
   {
    "duration": 73,
    "start_time": "2023-05-23T16:47:04.760Z"
   },
   {
    "duration": 22,
    "start_time": "2023-05-23T16:47:04.834Z"
   },
   {
    "duration": 24,
    "start_time": "2023-05-23T16:47:04.858Z"
   },
   {
    "duration": 3,
    "start_time": "2023-05-23T16:47:04.883Z"
   },
   {
    "duration": 8,
    "start_time": "2023-05-23T16:47:04.888Z"
   },
   {
    "duration": 15,
    "start_time": "2023-05-23T16:47:04.898Z"
   },
   {
    "duration": 4,
    "start_time": "2023-05-23T16:47:04.915Z"
   },
   {
    "duration": 12,
    "start_time": "2023-05-23T16:47:04.920Z"
   },
   {
    "duration": 9,
    "start_time": "2023-05-23T16:47:04.934Z"
   },
   {
    "duration": 35,
    "start_time": "2023-05-23T16:47:04.945Z"
   },
   {
    "duration": 11,
    "start_time": "2023-05-23T16:47:04.982Z"
   },
   {
    "duration": 12,
    "start_time": "2023-05-23T16:47:04.994Z"
   },
   {
    "duration": 573,
    "start_time": "2023-05-23T16:47:05.008Z"
   },
   {
    "duration": 317,
    "start_time": "2023-05-23T16:47:05.584Z"
   },
   {
    "duration": 350,
    "start_time": "2023-05-23T16:47:05.902Z"
   },
   {
    "duration": 271,
    "start_time": "2023-05-23T16:47:06.254Z"
   },
   {
    "duration": 414,
    "start_time": "2023-05-23T16:52:31.354Z"
   },
   {
    "duration": 92,
    "start_time": "2023-05-23T16:56:44.581Z"
   },
   {
    "duration": 129,
    "start_time": "2023-05-23T16:57:21.581Z"
   },
   {
    "duration": 127,
    "start_time": "2023-05-23T16:57:40.755Z"
   },
   {
    "duration": 128,
    "start_time": "2023-05-23T16:57:52.478Z"
   },
   {
    "duration": 10,
    "start_time": "2023-05-23T17:00:13.894Z"
   },
   {
    "duration": 10,
    "start_time": "2023-05-23T17:05:22.849Z"
   },
   {
    "duration": 5,
    "start_time": "2023-05-23T17:05:35.949Z"
   },
   {
    "duration": 123,
    "start_time": "2023-05-23T17:07:53.574Z"
   },
   {
    "duration": 211,
    "start_time": "2023-05-23T17:08:18.243Z"
   },
   {
    "duration": 431,
    "start_time": "2023-05-23T17:15:12.904Z"
   },
   {
    "duration": 12,
    "start_time": "2023-05-23T17:18:52.683Z"
   },
   {
    "duration": 1055,
    "start_time": "2023-05-23T17:20:06.738Z"
   },
   {
    "duration": 73,
    "start_time": "2023-05-23T17:20:07.794Z"
   },
   {
    "duration": 21,
    "start_time": "2023-05-23T17:20:07.868Z"
   },
   {
    "duration": 24,
    "start_time": "2023-05-23T17:20:07.891Z"
   },
   {
    "duration": 4,
    "start_time": "2023-05-23T17:20:07.918Z"
   },
   {
    "duration": 12,
    "start_time": "2023-05-23T17:20:07.924Z"
   },
   {
    "duration": 18,
    "start_time": "2023-05-23T17:20:07.937Z"
   },
   {
    "duration": 5,
    "start_time": "2023-05-23T17:20:07.956Z"
   },
   {
    "duration": 10,
    "start_time": "2023-05-23T17:20:07.978Z"
   },
   {
    "duration": 18,
    "start_time": "2023-05-23T17:20:07.990Z"
   },
   {
    "duration": 10,
    "start_time": "2023-05-23T17:20:08.010Z"
   },
   {
    "duration": 10,
    "start_time": "2023-05-23T17:20:08.022Z"
   },
   {
    "duration": 22,
    "start_time": "2023-05-23T17:20:08.033Z"
   },
   {
    "duration": 533,
    "start_time": "2023-05-23T17:20:08.057Z"
   },
   {
    "duration": 268,
    "start_time": "2023-05-23T17:20:08.592Z"
   },
   {
    "duration": 395,
    "start_time": "2023-05-23T17:20:08.862Z"
   },
   {
    "duration": 294,
    "start_time": "2023-05-23T17:20:09.259Z"
   },
   {
    "duration": 423,
    "start_time": "2023-05-23T17:20:09.555Z"
   },
   {
    "duration": 147,
    "start_time": "2023-05-23T17:20:09.980Z"
   },
   {
    "duration": 10,
    "start_time": "2023-05-23T17:20:10.129Z"
   },
   {
    "duration": 144,
    "start_time": "2023-05-23T17:20:10.141Z"
   },
   {
    "duration": 5,
    "start_time": "2023-05-23T17:20:10.287Z"
   },
   {
    "duration": 502,
    "start_time": "2023-05-23T17:20:10.293Z"
   },
   {
    "duration": 13,
    "start_time": "2023-05-23T17:20:10.796Z"
   },
   {
    "duration": 16,
    "start_time": "2023-05-23T17:20:10.811Z"
   },
   {
    "duration": 1303,
    "start_time": "2023-05-25T12:45:33.311Z"
   },
   {
    "duration": 191,
    "start_time": "2023-05-25T12:45:34.616Z"
   },
   {
    "duration": 22,
    "start_time": "2023-05-25T12:45:34.809Z"
   },
   {
    "duration": 30,
    "start_time": "2023-05-25T12:45:34.833Z"
   },
   {
    "duration": 5,
    "start_time": "2023-05-25T12:45:34.865Z"
   },
   {
    "duration": 12,
    "start_time": "2023-05-25T12:45:34.872Z"
   },
   {
    "duration": 20,
    "start_time": "2023-05-25T12:45:34.886Z"
   },
   {
    "duration": 20,
    "start_time": "2023-05-25T12:45:34.908Z"
   },
   {
    "duration": 16,
    "start_time": "2023-05-25T12:45:34.930Z"
   },
   {
    "duration": 10,
    "start_time": "2023-05-25T12:45:34.949Z"
   },
   {
    "duration": 26,
    "start_time": "2023-05-25T12:45:34.961Z"
   },
   {
    "duration": 24,
    "start_time": "2023-05-25T12:45:34.989Z"
   },
   {
    "duration": 20,
    "start_time": "2023-05-25T12:45:35.025Z"
   },
   {
    "duration": 581,
    "start_time": "2023-05-25T12:45:35.047Z"
   },
   {
    "duration": 289,
    "start_time": "2023-05-25T12:45:35.629Z"
   },
   {
    "duration": 442,
    "start_time": "2023-05-25T12:45:35.924Z"
   },
   {
    "duration": 319,
    "start_time": "2023-05-25T12:45:36.368Z"
   },
   {
    "duration": 468,
    "start_time": "2023-05-25T12:45:36.689Z"
   },
   {
    "duration": 153,
    "start_time": "2023-05-25T12:45:37.159Z"
   },
   {
    "duration": 20,
    "start_time": "2023-05-25T12:45:37.314Z"
   },
   {
    "duration": 177,
    "start_time": "2023-05-25T12:45:37.336Z"
   },
   {
    "duration": 13,
    "start_time": "2023-05-25T12:45:37.515Z"
   },
   {
    "duration": 471,
    "start_time": "2023-05-25T12:45:37.530Z"
   },
   {
    "duration": 26,
    "start_time": "2023-05-25T12:45:38.003Z"
   },
   {
    "duration": 4,
    "start_time": "2023-05-25T12:45:38.031Z"
   },
   {
    "duration": 1123,
    "start_time": "2023-05-25T12:57:42.638Z"
   },
   {
    "duration": 78,
    "start_time": "2023-05-25T12:57:43.763Z"
   },
   {
    "duration": 20,
    "start_time": "2023-05-25T12:57:43.843Z"
   },
   {
    "duration": 24,
    "start_time": "2023-05-25T12:57:43.865Z"
   },
   {
    "duration": 3,
    "start_time": "2023-05-25T12:57:43.891Z"
   },
   {
    "duration": 15,
    "start_time": "2023-05-25T12:57:43.896Z"
   },
   {
    "duration": 40,
    "start_time": "2023-05-25T12:57:43.913Z"
   },
   {
    "duration": 5,
    "start_time": "2023-05-25T12:57:43.954Z"
   },
   {
    "duration": 18,
    "start_time": "2023-05-25T12:57:43.961Z"
   },
   {
    "duration": 9,
    "start_time": "2023-05-25T12:57:43.982Z"
   },
   {
    "duration": 21,
    "start_time": "2023-05-25T12:57:43.993Z"
   },
   {
    "duration": 13,
    "start_time": "2023-05-25T12:57:44.016Z"
   },
   {
    "duration": 23,
    "start_time": "2023-05-25T12:57:44.030Z"
   },
   {
    "duration": 612,
    "start_time": "2023-05-25T12:57:44.055Z"
   },
   {
    "duration": 296,
    "start_time": "2023-05-25T12:57:44.669Z"
   },
   {
    "duration": 411,
    "start_time": "2023-05-25T12:57:44.966Z"
   },
   {
    "duration": 308,
    "start_time": "2023-05-25T12:57:45.378Z"
   },
   {
    "duration": 431,
    "start_time": "2023-05-25T12:57:45.688Z"
   },
   {
    "duration": 139,
    "start_time": "2023-05-25T12:57:46.120Z"
   },
   {
    "duration": 10,
    "start_time": "2023-05-25T12:57:46.261Z"
   },
   {
    "duration": 134,
    "start_time": "2023-05-25T12:57:46.273Z"
   },
   {
    "duration": 5,
    "start_time": "2023-05-25T12:57:46.408Z"
   },
   {
    "duration": 467,
    "start_time": "2023-05-25T12:57:46.424Z"
   },
   {
    "duration": 11,
    "start_time": "2023-05-25T12:57:46.893Z"
   },
   {
    "duration": 29,
    "start_time": "2023-05-25T12:57:46.906Z"
   },
   {
    "duration": 781,
    "start_time": "2023-05-25T12:57:46.937Z"
   },
   {
    "duration": 12,
    "start_time": "2023-05-25T13:13:19.538Z"
   },
   {
    "duration": 1149,
    "start_time": "2023-05-25T13:18:46.998Z"
   },
   {
    "duration": 76,
    "start_time": "2023-05-25T13:18:48.148Z"
   },
   {
    "duration": 22,
    "start_time": "2023-05-25T13:18:48.226Z"
   },
   {
    "duration": 25,
    "start_time": "2023-05-25T13:18:48.250Z"
   },
   {
    "duration": 3,
    "start_time": "2023-05-25T13:18:48.277Z"
   },
   {
    "duration": 6,
    "start_time": "2023-05-25T13:18:48.282Z"
   },
   {
    "duration": 56,
    "start_time": "2023-05-25T13:18:48.289Z"
   },
   {
    "duration": 8,
    "start_time": "2023-05-25T13:18:48.347Z"
   },
   {
    "duration": 13,
    "start_time": "2023-05-25T13:18:48.356Z"
   },
   {
    "duration": 13,
    "start_time": "2023-05-25T13:18:48.372Z"
   },
   {
    "duration": 11,
    "start_time": "2023-05-25T13:18:48.387Z"
   },
   {
    "duration": 26,
    "start_time": "2023-05-25T13:18:48.400Z"
   },
   {
    "duration": 14,
    "start_time": "2023-05-25T13:18:48.428Z"
   },
   {
    "duration": 569,
    "start_time": "2023-05-25T13:18:48.444Z"
   },
   {
    "duration": 280,
    "start_time": "2023-05-25T13:18:49.015Z"
   },
   {
    "duration": 412,
    "start_time": "2023-05-25T13:18:49.297Z"
   },
   {
    "duration": 368,
    "start_time": "2023-05-25T13:18:49.712Z"
   },
   {
    "duration": 419,
    "start_time": "2023-05-25T13:18:50.082Z"
   },
   {
    "duration": 136,
    "start_time": "2023-05-25T13:18:50.503Z"
   },
   {
    "duration": 10,
    "start_time": "2023-05-25T13:18:50.640Z"
   },
   {
    "duration": 133,
    "start_time": "2023-05-25T13:18:50.651Z"
   },
   {
    "duration": 4,
    "start_time": "2023-05-25T13:18:50.786Z"
   },
   {
    "duration": 486,
    "start_time": "2023-05-25T13:18:50.792Z"
   },
   {
    "duration": 11,
    "start_time": "2023-05-25T13:18:51.280Z"
   },
   {
    "duration": 56,
    "start_time": "2023-05-25T13:18:51.293Z"
   },
   {
    "duration": 142,
    "start_time": "2023-05-25T13:19:04.417Z"
   },
   {
    "duration": 33,
    "start_time": "2023-05-25T13:25:03.934Z"
   },
   {
    "duration": 16,
    "start_time": "2023-05-25T13:30:19.374Z"
   },
   {
    "duration": 30,
    "start_time": "2023-05-25T13:34:51.743Z"
   },
   {
    "duration": 1195,
    "start_time": "2023-05-25T13:37:38.841Z"
   },
   {
    "duration": 75,
    "start_time": "2023-05-25T13:37:40.039Z"
   },
   {
    "duration": 20,
    "start_time": "2023-05-25T13:37:40.116Z"
   },
   {
    "duration": 24,
    "start_time": "2023-05-25T13:37:40.138Z"
   },
   {
    "duration": 17,
    "start_time": "2023-05-25T13:37:40.163Z"
   },
   {
    "duration": 8,
    "start_time": "2023-05-25T13:37:40.182Z"
   },
   {
    "duration": 12,
    "start_time": "2023-05-25T13:37:40.191Z"
   },
   {
    "duration": 21,
    "start_time": "2023-05-25T13:37:40.204Z"
   },
   {
    "duration": 12,
    "start_time": "2023-05-25T13:37:40.227Z"
   },
   {
    "duration": 10,
    "start_time": "2023-05-25T13:37:40.241Z"
   },
   {
    "duration": 10,
    "start_time": "2023-05-25T13:37:40.253Z"
   },
   {
    "duration": 14,
    "start_time": "2023-05-25T13:37:40.265Z"
   },
   {
    "duration": 12,
    "start_time": "2023-05-25T13:37:40.281Z"
   },
   {
    "duration": 588,
    "start_time": "2023-05-25T13:37:40.295Z"
   },
   {
    "duration": 294,
    "start_time": "2023-05-25T13:37:40.885Z"
   },
   {
    "duration": 486,
    "start_time": "2023-05-25T13:37:41.181Z"
   },
   {
    "duration": 294,
    "start_time": "2023-05-25T13:37:41.668Z"
   },
   {
    "duration": 371,
    "start_time": "2023-05-25T13:37:41.964Z"
   },
   {
    "duration": 135,
    "start_time": "2023-05-25T13:37:42.337Z"
   },
   {
    "duration": 10,
    "start_time": "2023-05-25T13:37:42.474Z"
   },
   {
    "duration": 136,
    "start_time": "2023-05-25T13:37:42.486Z"
   },
   {
    "duration": 6,
    "start_time": "2023-05-25T13:37:42.624Z"
   },
   {
    "duration": 476,
    "start_time": "2023-05-25T13:37:42.632Z"
   },
   {
    "duration": 19,
    "start_time": "2023-05-25T13:37:43.109Z"
   },
   {
    "duration": 143,
    "start_time": "2023-05-25T13:37:43.130Z"
   },
   {
    "duration": 31,
    "start_time": "2023-05-25T13:37:43.275Z"
   },
   {
    "duration": 32,
    "start_time": "2023-05-25T13:37:43.308Z"
   },
   {
    "duration": 55,
    "start_time": "2023-05-25T14:09:27.174Z"
   },
   {
    "duration": 0,
    "start_time": "2023-05-25T14:09:27.231Z"
   },
   {
    "duration": 0,
    "start_time": "2023-05-25T14:09:27.233Z"
   },
   {
    "duration": 0,
    "start_time": "2023-05-25T14:09:27.234Z"
   },
   {
    "duration": 0,
    "start_time": "2023-05-25T14:09:27.235Z"
   },
   {
    "duration": 0,
    "start_time": "2023-05-25T14:09:27.236Z"
   },
   {
    "duration": 0,
    "start_time": "2023-05-25T14:09:27.237Z"
   },
   {
    "duration": 0,
    "start_time": "2023-05-25T14:09:27.238Z"
   },
   {
    "duration": 0,
    "start_time": "2023-05-25T14:09:27.239Z"
   },
   {
    "duration": 0,
    "start_time": "2023-05-25T14:09:27.240Z"
   },
   {
    "duration": 0,
    "start_time": "2023-05-25T14:09:27.242Z"
   },
   {
    "duration": 0,
    "start_time": "2023-05-25T14:09:27.243Z"
   },
   {
    "duration": 0,
    "start_time": "2023-05-25T14:09:27.244Z"
   },
   {
    "duration": 0,
    "start_time": "2023-05-25T14:09:27.245Z"
   },
   {
    "duration": 0,
    "start_time": "2023-05-25T14:09:27.247Z"
   },
   {
    "duration": 0,
    "start_time": "2023-05-25T14:09:27.249Z"
   },
   {
    "duration": 113,
    "start_time": "2023-05-25T14:09:27.251Z"
   },
   {
    "duration": 0,
    "start_time": "2023-05-25T14:09:27.366Z"
   },
   {
    "duration": 0,
    "start_time": "2023-05-25T14:09:27.368Z"
   },
   {
    "duration": 0,
    "start_time": "2023-05-25T14:09:27.369Z"
   },
   {
    "duration": 0,
    "start_time": "2023-05-25T14:09:27.370Z"
   },
   {
    "duration": 0,
    "start_time": "2023-05-25T14:09:27.371Z"
   },
   {
    "duration": 0,
    "start_time": "2023-05-25T14:09:27.373Z"
   },
   {
    "duration": 0,
    "start_time": "2023-05-25T14:09:27.373Z"
   },
   {
    "duration": 0,
    "start_time": "2023-05-25T14:09:27.375Z"
   },
   {
    "duration": 0,
    "start_time": "2023-05-25T14:09:27.376Z"
   },
   {
    "duration": 0,
    "start_time": "2023-05-25T14:09:27.377Z"
   },
   {
    "duration": 0,
    "start_time": "2023-05-25T14:09:27.378Z"
   },
   {
    "duration": 0,
    "start_time": "2023-05-25T14:09:27.379Z"
   },
   {
    "duration": 61,
    "start_time": "2023-05-25T14:09:40.912Z"
   },
   {
    "duration": 0,
    "start_time": "2023-05-25T14:09:40.975Z"
   },
   {
    "duration": 0,
    "start_time": "2023-05-25T14:09:40.976Z"
   },
   {
    "duration": 0,
    "start_time": "2023-05-25T14:09:40.978Z"
   },
   {
    "duration": 0,
    "start_time": "2023-05-25T14:09:40.979Z"
   },
   {
    "duration": 0,
    "start_time": "2023-05-25T14:09:40.980Z"
   },
   {
    "duration": 0,
    "start_time": "2023-05-25T14:09:40.982Z"
   },
   {
    "duration": 0,
    "start_time": "2023-05-25T14:09:40.983Z"
   },
   {
    "duration": 0,
    "start_time": "2023-05-25T14:09:40.985Z"
   },
   {
    "duration": 0,
    "start_time": "2023-05-25T14:09:40.987Z"
   },
   {
    "duration": 0,
    "start_time": "2023-05-25T14:09:40.988Z"
   },
   {
    "duration": 0,
    "start_time": "2023-05-25T14:09:40.989Z"
   },
   {
    "duration": 0,
    "start_time": "2023-05-25T14:09:40.990Z"
   },
   {
    "duration": 0,
    "start_time": "2023-05-25T14:09:40.992Z"
   },
   {
    "duration": 0,
    "start_time": "2023-05-25T14:09:40.993Z"
   },
   {
    "duration": 0,
    "start_time": "2023-05-25T14:09:40.994Z"
   },
   {
    "duration": 61,
    "start_time": "2023-05-25T14:09:40.997Z"
   },
   {
    "duration": 0,
    "start_time": "2023-05-25T14:09:41.060Z"
   },
   {
    "duration": 0,
    "start_time": "2023-05-25T14:09:41.061Z"
   },
   {
    "duration": 0,
    "start_time": "2023-05-25T14:09:41.063Z"
   },
   {
    "duration": 0,
    "start_time": "2023-05-25T14:09:41.064Z"
   },
   {
    "duration": 0,
    "start_time": "2023-05-25T14:09:41.066Z"
   },
   {
    "duration": 0,
    "start_time": "2023-05-25T14:09:41.067Z"
   },
   {
    "duration": 0,
    "start_time": "2023-05-25T14:09:41.069Z"
   },
   {
    "duration": 0,
    "start_time": "2023-05-25T14:09:41.070Z"
   },
   {
    "duration": 0,
    "start_time": "2023-05-25T14:09:41.071Z"
   },
   {
    "duration": 0,
    "start_time": "2023-05-25T14:09:41.072Z"
   },
   {
    "duration": 0,
    "start_time": "2023-05-25T14:09:41.073Z"
   },
   {
    "duration": 0,
    "start_time": "2023-05-25T14:09:41.075Z"
   },
   {
    "duration": 1045,
    "start_time": "2023-05-25T14:10:24.176Z"
   },
   {
    "duration": 74,
    "start_time": "2023-05-25T14:10:25.223Z"
   },
   {
    "duration": 31,
    "start_time": "2023-05-25T14:10:25.299Z"
   },
   {
    "duration": 37,
    "start_time": "2023-05-25T14:10:25.332Z"
   },
   {
    "duration": 4,
    "start_time": "2023-05-25T14:10:25.371Z"
   },
   {
    "duration": 7,
    "start_time": "2023-05-25T14:10:25.377Z"
   },
   {
    "duration": 44,
    "start_time": "2023-05-25T14:10:25.387Z"
   },
   {
    "duration": 6,
    "start_time": "2023-05-25T14:10:25.434Z"
   },
   {
    "duration": 17,
    "start_time": "2023-05-25T14:10:25.443Z"
   },
   {
    "duration": 15,
    "start_time": "2023-05-25T14:10:25.462Z"
   },
   {
    "duration": 47,
    "start_time": "2023-05-25T14:10:25.479Z"
   },
   {
    "duration": 13,
    "start_time": "2023-05-25T14:10:25.528Z"
   },
   {
    "duration": 603,
    "start_time": "2023-05-25T14:10:25.543Z"
   },
   {
    "duration": 306,
    "start_time": "2023-05-25T14:10:26.149Z"
   },
   {
    "duration": 407,
    "start_time": "2023-05-25T14:10:26.457Z"
   },
   {
    "duration": 301,
    "start_time": "2023-05-25T14:10:26.866Z"
   },
   {
    "duration": 398,
    "start_time": "2023-05-25T14:10:27.169Z"
   },
   {
    "duration": 137,
    "start_time": "2023-05-25T14:10:27.569Z"
   },
   {
    "duration": 21,
    "start_time": "2023-05-25T14:10:27.708Z"
   },
   {
    "duration": 136,
    "start_time": "2023-05-25T14:10:27.731Z"
   },
   {
    "duration": 5,
    "start_time": "2023-05-25T14:10:27.868Z"
   },
   {
    "duration": 523,
    "start_time": "2023-05-25T14:10:27.875Z"
   },
   {
    "duration": 30,
    "start_time": "2023-05-25T14:10:28.401Z"
   },
   {
    "duration": 160,
    "start_time": "2023-05-25T14:10:28.434Z"
   },
   {
    "duration": 42,
    "start_time": "2023-05-25T14:10:28.596Z"
   },
   {
    "duration": 16,
    "start_time": "2023-05-25T14:10:28.640Z"
   },
   {
    "duration": 1011,
    "start_time": "2023-05-25T14:16:15.805Z"
   },
   {
    "duration": 1773,
    "start_time": "2023-05-25T14:16:21.802Z"
   },
   {
    "duration": 595,
    "start_time": "2023-05-25T14:16:26.593Z"
   },
   {
    "duration": 558,
    "start_time": "2023-05-25T14:16:36.124Z"
   },
   {
    "duration": 601,
    "start_time": "2023-05-25T14:16:45.335Z"
   },
   {
    "duration": 543,
    "start_time": "2023-05-25T14:16:59.989Z"
   },
   {
    "duration": 562,
    "start_time": "2023-05-25T14:17:11.614Z"
   },
   {
    "duration": 519,
    "start_time": "2023-05-25T14:17:27.929Z"
   },
   {
    "duration": 70,
    "start_time": "2023-05-25T14:18:54.389Z"
   },
   {
    "duration": 619,
    "start_time": "2023-05-25T14:19:16.006Z"
   },
   {
    "duration": 253,
    "start_time": "2023-05-25T14:19:49.132Z"
   },
   {
    "duration": 588,
    "start_time": "2023-05-25T14:20:05.151Z"
   },
   {
    "duration": 536,
    "start_time": "2023-05-25T14:20:12.495Z"
   },
   {
    "duration": 346,
    "start_time": "2023-05-25T14:21:06.347Z"
   },
   {
    "duration": 403,
    "start_time": "2023-05-25T14:21:15.516Z"
   },
   {
    "duration": 1133,
    "start_time": "2023-05-25T14:33:22.986Z"
   },
   {
    "duration": 74,
    "start_time": "2023-05-25T14:33:24.122Z"
   },
   {
    "duration": 22,
    "start_time": "2023-05-25T14:33:24.198Z"
   },
   {
    "duration": 25,
    "start_time": "2023-05-25T14:33:24.223Z"
   },
   {
    "duration": 8,
    "start_time": "2023-05-25T14:33:24.249Z"
   },
   {
    "duration": 5,
    "start_time": "2023-05-25T14:33:24.259Z"
   },
   {
    "duration": 19,
    "start_time": "2023-05-25T14:33:24.266Z"
   },
   {
    "duration": 5,
    "start_time": "2023-05-25T14:33:24.286Z"
   },
   {
    "duration": 12,
    "start_time": "2023-05-25T14:33:24.293Z"
   },
   {
    "duration": 26,
    "start_time": "2023-05-25T14:33:24.307Z"
   },
   {
    "duration": 11,
    "start_time": "2023-05-25T14:33:24.335Z"
   },
   {
    "duration": 14,
    "start_time": "2023-05-25T14:33:24.348Z"
   },
   {
    "duration": 570,
    "start_time": "2023-05-25T14:33:24.364Z"
   },
   {
    "duration": 289,
    "start_time": "2023-05-25T14:33:24.936Z"
   },
   {
    "duration": 402,
    "start_time": "2023-05-25T14:33:25.226Z"
   },
   {
    "duration": 304,
    "start_time": "2023-05-25T14:33:25.630Z"
   },
   {
    "duration": 390,
    "start_time": "2023-05-25T14:33:25.937Z"
   },
   {
    "duration": 150,
    "start_time": "2023-05-25T14:33:26.329Z"
   },
   {
    "duration": 10,
    "start_time": "2023-05-25T14:33:26.481Z"
   },
   {
    "duration": 143,
    "start_time": "2023-05-25T14:33:26.493Z"
   },
   {
    "duration": 5,
    "start_time": "2023-05-25T14:33:26.638Z"
   },
   {
    "duration": 542,
    "start_time": "2023-05-25T14:33:26.645Z"
   },
   {
    "duration": 11,
    "start_time": "2023-05-25T14:33:27.189Z"
   },
   {
    "duration": 159,
    "start_time": "2023-05-25T14:33:27.202Z"
   },
   {
    "duration": 31,
    "start_time": "2023-05-25T14:33:27.363Z"
   },
   {
    "duration": 36,
    "start_time": "2023-05-25T14:33:27.396Z"
   },
   {
    "duration": 450,
    "start_time": "2023-05-25T14:50:38.962Z"
   },
   {
    "duration": 1121,
    "start_time": "2023-05-25T15:16:03.295Z"
   },
   {
    "duration": 72,
    "start_time": "2023-05-25T15:16:04.418Z"
   },
   {
    "duration": 21,
    "start_time": "2023-05-25T15:16:04.491Z"
   },
   {
    "duration": 26,
    "start_time": "2023-05-25T15:16:04.514Z"
   },
   {
    "duration": 20,
    "start_time": "2023-05-25T15:16:04.542Z"
   },
   {
    "duration": 24,
    "start_time": "2023-05-25T15:16:04.563Z"
   },
   {
    "duration": 38,
    "start_time": "2023-05-25T15:16:04.589Z"
   },
   {
    "duration": 15,
    "start_time": "2023-05-25T15:16:04.629Z"
   },
   {
    "duration": 41,
    "start_time": "2023-05-25T15:16:04.646Z"
   },
   {
    "duration": 30,
    "start_time": "2023-05-25T15:16:04.689Z"
   },
   {
    "duration": 33,
    "start_time": "2023-05-25T15:16:04.720Z"
   },
   {
    "duration": 35,
    "start_time": "2023-05-25T15:16:04.754Z"
   },
   {
    "duration": 526,
    "start_time": "2023-05-25T15:16:04.791Z"
   },
   {
    "duration": 311,
    "start_time": "2023-05-25T15:16:05.319Z"
   },
   {
    "duration": 403,
    "start_time": "2023-05-25T15:16:05.631Z"
   },
   {
    "duration": 292,
    "start_time": "2023-05-25T15:16:06.035Z"
   },
   {
    "duration": 370,
    "start_time": "2023-05-25T15:16:06.329Z"
   },
   {
    "duration": 130,
    "start_time": "2023-05-25T15:16:06.701Z"
   },
   {
    "duration": 13,
    "start_time": "2023-05-25T15:16:06.834Z"
   },
   {
    "duration": 140,
    "start_time": "2023-05-25T15:16:06.849Z"
   },
   {
    "duration": 4,
    "start_time": "2023-05-25T15:16:06.991Z"
   },
   {
    "duration": 483,
    "start_time": "2023-05-25T15:16:06.997Z"
   },
   {
    "duration": 12,
    "start_time": "2023-05-25T15:16:07.481Z"
   },
   {
    "duration": 148,
    "start_time": "2023-05-25T15:16:07.494Z"
   },
   {
    "duration": 30,
    "start_time": "2023-05-25T15:16:07.644Z"
   },
   {
    "duration": 17,
    "start_time": "2023-05-25T15:16:07.676Z"
   },
   {
    "duration": 507,
    "start_time": "2023-05-25T15:37:38.592Z"
   },
   {
    "duration": 565,
    "start_time": "2023-05-25T15:38:03.251Z"
   },
   {
    "duration": 276,
    "start_time": "2023-05-25T15:38:37.246Z"
   },
   {
    "duration": 341,
    "start_time": "2023-05-25T15:39:14.261Z"
   },
   {
    "duration": 284,
    "start_time": "2023-05-25T15:39:48.938Z"
   },
   {
    "duration": 388,
    "start_time": "2023-05-25T15:40:21.351Z"
   },
   {
    "duration": 150,
    "start_time": "2023-05-25T15:41:08.411Z"
   },
   {
    "duration": 141,
    "start_time": "2023-05-25T15:41:28.546Z"
   },
   {
    "duration": 1074,
    "start_time": "2023-05-25T15:54:37.337Z"
   },
   {
    "duration": 73,
    "start_time": "2023-05-25T15:54:38.413Z"
   },
   {
    "duration": 19,
    "start_time": "2023-05-25T15:54:38.488Z"
   },
   {
    "duration": 23,
    "start_time": "2023-05-25T15:54:38.509Z"
   },
   {
    "duration": 7,
    "start_time": "2023-05-25T15:54:38.534Z"
   },
   {
    "duration": 9,
    "start_time": "2023-05-25T15:54:38.542Z"
   },
   {
    "duration": 11,
    "start_time": "2023-05-25T15:54:38.553Z"
   },
   {
    "duration": 6,
    "start_time": "2023-05-25T15:54:38.565Z"
   },
   {
    "duration": 31,
    "start_time": "2023-05-25T15:54:38.572Z"
   },
   {
    "duration": 8,
    "start_time": "2023-05-25T15:54:38.606Z"
   },
   {
    "duration": 12,
    "start_time": "2023-05-25T15:54:38.616Z"
   },
   {
    "duration": 27,
    "start_time": "2023-05-25T15:54:38.629Z"
   },
   {
    "duration": 525,
    "start_time": "2023-05-25T15:54:38.657Z"
   },
   {
    "duration": 270,
    "start_time": "2023-05-25T15:54:39.184Z"
   },
   {
    "duration": 398,
    "start_time": "2023-05-25T15:54:39.456Z"
   },
   {
    "duration": 310,
    "start_time": "2023-05-25T15:54:39.855Z"
   },
   {
    "duration": 478,
    "start_time": "2023-05-25T15:54:40.167Z"
   },
   {
    "duration": 159,
    "start_time": "2023-05-25T15:54:40.646Z"
   },
   {
    "duration": 21,
    "start_time": "2023-05-25T15:54:40.807Z"
   },
   {
    "duration": 130,
    "start_time": "2023-05-25T15:54:40.830Z"
   },
   {
    "duration": 6,
    "start_time": "2023-05-25T15:54:40.961Z"
   },
   {
    "duration": 457,
    "start_time": "2023-05-25T15:54:40.969Z"
   },
   {
    "duration": 11,
    "start_time": "2023-05-25T15:54:41.427Z"
   },
   {
    "duration": 146,
    "start_time": "2023-05-25T15:54:41.439Z"
   },
   {
    "duration": 41,
    "start_time": "2023-05-25T15:54:41.587Z"
   },
   {
    "duration": 19,
    "start_time": "2023-05-25T15:54:41.630Z"
   },
   {
    "duration": 1205,
    "start_time": "2023-05-25T16:11:06.086Z"
   },
   {
    "duration": 255,
    "start_time": "2023-05-25T16:11:07.293Z"
   },
   {
    "duration": 20,
    "start_time": "2023-05-25T16:11:07.552Z"
   },
   {
    "duration": 22,
    "start_time": "2023-05-25T16:11:07.574Z"
   },
   {
    "duration": 3,
    "start_time": "2023-05-25T16:11:07.597Z"
   },
   {
    "duration": 6,
    "start_time": "2023-05-25T16:11:07.602Z"
   },
   {
    "duration": 13,
    "start_time": "2023-05-25T16:11:07.610Z"
   },
   {
    "duration": 14,
    "start_time": "2023-05-25T16:11:07.624Z"
   },
   {
    "duration": 21,
    "start_time": "2023-05-25T16:11:07.640Z"
   },
   {
    "duration": 13,
    "start_time": "2023-05-25T16:11:07.663Z"
   },
   {
    "duration": 24,
    "start_time": "2023-05-25T16:11:07.678Z"
   },
   {
    "duration": 30,
    "start_time": "2023-05-25T16:11:07.703Z"
   },
   {
    "duration": 567,
    "start_time": "2023-05-25T16:11:07.736Z"
   },
   {
    "duration": 285,
    "start_time": "2023-05-25T16:11:08.305Z"
   },
   {
    "duration": 408,
    "start_time": "2023-05-25T16:11:08.592Z"
   },
   {
    "duration": 308,
    "start_time": "2023-05-25T16:11:09.002Z"
   },
   {
    "duration": 403,
    "start_time": "2023-05-25T16:11:09.311Z"
   },
   {
    "duration": 142,
    "start_time": "2023-05-25T16:11:09.717Z"
   },
   {
    "duration": 10,
    "start_time": "2023-05-25T16:11:09.861Z"
   },
   {
    "duration": 150,
    "start_time": "2023-05-25T16:11:09.873Z"
   },
   {
    "duration": 6,
    "start_time": "2023-05-25T16:11:10.025Z"
   },
   {
    "duration": 459,
    "start_time": "2023-05-25T16:11:10.033Z"
   },
   {
    "duration": 13,
    "start_time": "2023-05-25T16:11:10.498Z"
   },
   {
    "duration": 152,
    "start_time": "2023-05-25T16:11:10.513Z"
   },
   {
    "duration": 38,
    "start_time": "2023-05-25T16:11:10.667Z"
   },
   {
    "duration": 17,
    "start_time": "2023-05-25T16:11:10.707Z"
   },
   {
    "duration": 1260,
    "start_time": "2023-05-25T17:38:39.111Z"
   },
   {
    "duration": 218,
    "start_time": "2023-05-25T17:38:40.373Z"
   },
   {
    "duration": 25,
    "start_time": "2023-05-25T17:38:40.593Z"
   },
   {
    "duration": 24,
    "start_time": "2023-05-25T17:38:40.620Z"
   },
   {
    "duration": 3,
    "start_time": "2023-05-25T17:38:40.645Z"
   },
   {
    "duration": 4,
    "start_time": "2023-05-25T17:38:40.650Z"
   },
   {
    "duration": 29,
    "start_time": "2023-05-25T17:38:40.656Z"
   },
   {
    "duration": 10,
    "start_time": "2023-05-25T17:38:40.687Z"
   },
   {
    "duration": 11,
    "start_time": "2023-05-25T17:38:40.699Z"
   },
   {
    "duration": 9,
    "start_time": "2023-05-25T17:38:40.712Z"
   },
   {
    "duration": 10,
    "start_time": "2023-05-25T17:38:40.723Z"
   },
   {
    "duration": 12,
    "start_time": "2023-05-25T17:38:40.734Z"
   },
   {
    "duration": 584,
    "start_time": "2023-05-25T17:38:40.747Z"
   },
   {
    "duration": 268,
    "start_time": "2023-05-25T17:38:41.333Z"
   },
   {
    "duration": 380,
    "start_time": "2023-05-25T17:38:41.603Z"
   },
   {
    "duration": 276,
    "start_time": "2023-05-25T17:38:41.985Z"
   },
   {
    "duration": 379,
    "start_time": "2023-05-25T17:38:42.263Z"
   },
   {
    "duration": 131,
    "start_time": "2023-05-25T17:38:42.643Z"
   },
   {
    "duration": 12,
    "start_time": "2023-05-25T17:38:42.777Z"
   },
   {
    "duration": 129,
    "start_time": "2023-05-25T17:38:42.791Z"
   },
   {
    "duration": 4,
    "start_time": "2023-05-25T17:38:42.921Z"
   },
   {
    "duration": 425,
    "start_time": "2023-05-25T17:38:42.927Z"
   },
   {
    "duration": 9,
    "start_time": "2023-05-25T17:38:43.354Z"
   },
   {
    "duration": 150,
    "start_time": "2023-05-25T17:38:43.365Z"
   },
   {
    "duration": 32,
    "start_time": "2023-05-25T17:38:43.516Z"
   },
   {
    "duration": 42,
    "start_time": "2023-05-25T17:38:43.549Z"
   },
   {
    "duration": 1056,
    "start_time": "2023-05-25T17:39:34.234Z"
   },
   {
    "duration": 76,
    "start_time": "2023-05-25T17:39:35.292Z"
   },
   {
    "duration": 35,
    "start_time": "2023-05-25T17:39:35.370Z"
   },
   {
    "duration": 23,
    "start_time": "2023-05-25T17:39:35.407Z"
   },
   {
    "duration": 4,
    "start_time": "2023-05-25T17:39:35.431Z"
   },
   {
    "duration": 10,
    "start_time": "2023-05-25T17:39:35.436Z"
   },
   {
    "duration": 11,
    "start_time": "2023-05-25T17:39:35.448Z"
   },
   {
    "duration": 6,
    "start_time": "2023-05-25T17:39:35.485Z"
   },
   {
    "duration": 15,
    "start_time": "2023-05-25T17:39:35.493Z"
   },
   {
    "duration": 11,
    "start_time": "2023-05-25T17:39:35.511Z"
   },
   {
    "duration": 13,
    "start_time": "2023-05-25T17:39:35.523Z"
   },
   {
    "duration": 42,
    "start_time": "2023-05-25T17:39:35.538Z"
   },
   {
    "duration": 556,
    "start_time": "2023-05-25T17:39:35.582Z"
   },
   {
    "duration": 293,
    "start_time": "2023-05-25T17:39:36.141Z"
   },
   {
    "duration": 400,
    "start_time": "2023-05-25T17:39:36.436Z"
   },
   {
    "duration": 267,
    "start_time": "2023-05-25T17:39:36.838Z"
   },
   {
    "duration": 351,
    "start_time": "2023-05-25T17:39:37.107Z"
   },
   {
    "duration": 153,
    "start_time": "2023-05-25T17:39:37.460Z"
   },
   {
    "duration": 11,
    "start_time": "2023-05-25T17:39:37.615Z"
   },
   {
    "duration": 148,
    "start_time": "2023-05-25T17:39:37.627Z"
   },
   {
    "duration": 5,
    "start_time": "2023-05-25T17:39:37.778Z"
   },
   {
    "duration": 445,
    "start_time": "2023-05-25T17:39:37.785Z"
   },
   {
    "duration": 12,
    "start_time": "2023-05-25T17:39:38.232Z"
   },
   {
    "duration": 130,
    "start_time": "2023-05-25T17:39:38.245Z"
   },
   {
    "duration": 33,
    "start_time": "2023-05-25T17:39:38.377Z"
   },
   {
    "duration": 15,
    "start_time": "2023-05-25T17:39:38.412Z"
   },
   {
    "duration": 1294,
    "start_time": "2023-05-26T06:41:45.043Z"
   },
   {
    "duration": 86,
    "start_time": "2023-05-26T06:41:46.339Z"
   },
   {
    "duration": 30,
    "start_time": "2023-05-26T06:41:46.427Z"
   },
   {
    "duration": 48,
    "start_time": "2023-05-26T06:41:46.459Z"
   },
   {
    "duration": 10,
    "start_time": "2023-05-26T06:41:46.510Z"
   },
   {
    "duration": 20,
    "start_time": "2023-05-26T06:41:46.522Z"
   },
   {
    "duration": 47,
    "start_time": "2023-05-26T06:41:46.544Z"
   },
   {
    "duration": 6,
    "start_time": "2023-05-26T06:41:46.593Z"
   },
   {
    "duration": 22,
    "start_time": "2023-05-26T06:41:46.601Z"
   },
   {
    "duration": 15,
    "start_time": "2023-05-26T06:41:46.625Z"
   },
   {
    "duration": 69,
    "start_time": "2023-05-26T06:41:46.641Z"
   },
   {
    "duration": 33,
    "start_time": "2023-05-26T06:41:46.712Z"
   },
   {
    "duration": 670,
    "start_time": "2023-05-26T06:41:46.763Z"
   },
   {
    "duration": 349,
    "start_time": "2023-05-26T06:41:47.436Z"
   },
   {
    "duration": 407,
    "start_time": "2023-05-26T06:41:47.788Z"
   },
   {
    "duration": 344,
    "start_time": "2023-05-26T06:41:48.198Z"
   },
   {
    "duration": 426,
    "start_time": "2023-05-26T06:41:48.546Z"
   },
   {
    "duration": 194,
    "start_time": "2023-05-26T06:41:48.974Z"
   },
   {
    "duration": 14,
    "start_time": "2023-05-26T06:41:49.177Z"
   },
   {
    "duration": 183,
    "start_time": "2023-05-26T06:41:49.193Z"
   },
   {
    "duration": 5,
    "start_time": "2023-05-26T06:41:49.378Z"
   },
   {
    "duration": 508,
    "start_time": "2023-05-26T06:41:49.385Z"
   },
   {
    "duration": 14,
    "start_time": "2023-05-26T06:41:49.895Z"
   },
   {
    "duration": 170,
    "start_time": "2023-05-26T06:41:49.911Z"
   },
   {
    "duration": 31,
    "start_time": "2023-05-26T06:41:50.083Z"
   },
   {
    "duration": 43,
    "start_time": "2023-05-26T06:41:50.116Z"
   }
  ],
  "kernelspec": {
   "display_name": "Python 3 (ipykernel)",
   "language": "python",
   "name": "python3"
  },
  "language_info": {
   "codemirror_mode": {
    "name": "ipython",
    "version": 3
   },
   "file_extension": ".py",
   "mimetype": "text/x-python",
   "name": "python",
   "nbconvert_exporter": "python",
   "pygments_lexer": "ipython3",
   "version": "3.9.13"
  },
  "toc": {
   "base_numbering": 1,
   "nav_menu": {},
   "number_sections": true,
   "sideBar": true,
   "skip_h1_title": true,
   "title_cell": "Table of Contents",
   "title_sidebar": "Contents",
   "toc_cell": false,
   "toc_position": {},
   "toc_section_display": true,
   "toc_window_display": true
  }
 },
 "nbformat": 4,
 "nbformat_minor": 2
}
